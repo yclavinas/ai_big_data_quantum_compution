{
 "cells": [
  {
   "cell_type": "markdown",
   "metadata": {
    "colab_type": "text",
    "id": "UPyLPvqewqkp"
   },
   "source": [
    "Tasks\n",
    "1. Make a get parameter vector from model\n",
    "2. Test the two models - by starting with the same initialization + Testing with the \n",
    "\n",
    "List Of Metrics fo comparing the models\n",
    "1. F2 Score on test\n",
    "2. loss on test\n",
    "3. convergance graph every 256 samples - need to take the MSE loss on 32 samples, and change it with:\n",
    "loss_256 = (1/256) * sum (32*loss_32)\n",
    "\n",
    "Special requirements:\n",
    "- Do all of these multiple times - to get statistical information\n",
    "- Get timing data all the time  - to get statistical information\n"
   ]
  },
  {
   "cell_type": "code",
   "execution_count": 0,
   "metadata": {
    "colab": {},
    "colab_type": "code",
    "id": "nq7ZxG8IFy9N"
   },
   "outputs": [],
   "source": [
    "import torch\n",
    "from torch.utils.data import Dataset\n",
    "import pandas\n",
    "import io\n",
    "import dateutil\n",
    "import numpy as np\n",
    "import matplotlib.pyplot as plt\n",
    "from tqdm import tqdm\n",
    "import sklearn.metrics\n",
    "import torch.utils.data\n",
    "import time"
   ]
  },
  {
   "cell_type": "code",
   "execution_count": 0,
   "metadata": {
    "colab": {},
    "colab_type": "code",
    "id": "JTB9JUdJw9q4"
   },
   "outputs": [],
   "source": [
    "Load_DataSet = 0\n",
    "if Load_DataSet == 1:\n",
    "\n",
    "  from google.colab import files\n",
    "\n",
    "  print(\"Need to upload both: ATM_With_Primary_Axis1.py and GMM_Dataset.csv\" )\n",
    "  src = list(files.upload().values())[0]\n",
    "  open('ATM_With_Primary_Axis1.py','wb').write(src)\n",
    "  # import mylib\n",
    "\n"
   ]
  },
  {
   "cell_type": "code",
   "execution_count": 3,
   "metadata": {
    "colab": {
     "base_uri": "https://localhost:8080/",
     "height": 105
    },
    "colab_type": "code",
    "executionInfo": {
     "elapsed": 2835,
     "status": "ok",
     "timestamp": 1561895168633,
     "user": {
      "displayName": "Benjamin Bodner",
      "photoUrl": "",
      "userId": "00792548603420028130"
     },
     "user_tz": -180
    },
    "id": "048BwNUrTsM-",
    "outputId": "0f562d1d-8e50-4efc-c41f-17ed1a3f3110"
   },
   "outputs": [
    {
     "name": "stdout",
     "output_type": "stream",
     "text": [
      "Finished Loading:  Adaptive_Two_Mode\n",
      "\n",
      "Initial Cost 5294256.419644168\n",
      "Final Cost 0.0006886820074571613\n",
      "\n"
     ]
    }
   ],
   "source": [
    "from ATM_With_Primary_Axis1 import Adaptive_Two_Mode"
   ]
  },
  {
   "cell_type": "code",
   "execution_count": 4,
   "metadata": {
    "colab": {
     "base_uri": "https://localhost:8080/",
     "height": 210
    },
    "colab_type": "code",
    "executionInfo": {
     "elapsed": 2827,
     "status": "ok",
     "timestamp": 1561895168634,
     "user": {
      "displayName": "Benjamin Bodner",
      "photoUrl": "",
      "userId": "00792548603420028130"
     },
     "user_tz": -180
    },
    "id": "GxxvnayBcxpB",
    "outputId": "ca92ee36-07ef-4533-ff96-a174ea069667"
   },
   "outputs": [
    {
     "name": "stdout",
     "output_type": "stream",
     "text": [
      "X1    0.613648\n",
      "X2    0.691237\n",
      "X3    0.852704\n",
      "X4    0.045419\n",
      "X5    0.363777\n",
      "Y1    1.000000\n",
      "Y2    0.000000\n",
      "Y3    0.000000\n",
      "Y4    0.000000\n",
      "Y5    0.000000\n",
      "Name: 1, dtype: float64\n"
     ]
    }
   ],
   "source": [
    "look =  pandas.read_csv('GMM_Dataset.csv')\n",
    "\n",
    "print(look.iloc[1])"
   ]
  },
  {
   "cell_type": "code",
   "execution_count": 5,
   "metadata": {
    "colab": {
     "base_uri": "https://localhost:8080/",
     "height": 70
    },
    "colab_type": "code",
    "executionInfo": {
     "elapsed": 2809,
     "status": "ok",
     "timestamp": 1561895168634,
     "user": {
      "displayName": "Benjamin Bodner",
      "photoUrl": "",
      "userId": "00792548603420028130"
     },
     "user_tz": -180
    },
    "id": "3XXcDqdSwqky",
    "outputId": "fafb0a53-7641-445b-d981-8331b83e8873"
   },
   "outputs": [
    {
     "name": "stdout",
     "output_type": "stream",
     "text": [
      "Example Input tensor([0.6873, 0.6516, 0.9660, 0.0248, 0.1502])\n",
      "Example Output tensor([1., 0., 0., 0., 0.])\n",
      "31250\n"
     ]
    }
   ],
   "source": [
    "from torch.utils.data import Dataset\n",
    "\n",
    "class MixedCSV(Dataset):\n",
    "  \n",
    "    def __init__(self,datafile):\n",
    "    ## this is to load the data and ignore some of them\n",
    "    \n",
    "    \n",
    "        self.dataset = pandas.read_csv(datafile)\n",
    "\n",
    "    \n",
    "    def __len__(self):\n",
    "        return len(self.dataset)\n",
    "  \n",
    "    def __getitem__(self, index):\n",
    "    \n",
    "    \n",
    "        if type(index) is torch.Tensor:\n",
    "            index = index.item()\n",
    "\n",
    "        sample = self.dataset.iloc[index]\n",
    "\n",
    "\n",
    "        \n",
    "\n",
    "        input = torch.Tensor([sample[0],sample[1],sample[2],sample[3],sample[4]])\n",
    "        output = torch.Tensor([sample[5],sample[6],sample[7],sample[8],sample[9]])\n",
    "\n",
    "        return input,output\n",
    "    \n",
    "\n",
    "DataSet = MixedCSV('GMM_Dataset.csv')\n",
    "i = 3\n",
    "print(\"Example Input\",DataSet[i][0])\n",
    "print(\"Example Output\",DataSet[i][1])\n",
    "\n",
    "\n",
    "\n",
    "print(len(DataSet))\n",
    "\n"
   ]
  },
  {
   "cell_type": "code",
   "execution_count": 0,
   "metadata": {
    "colab": {},
    "colab_type": "code",
    "id": "ux6l_rJMMHA3"
   },
   "outputs": [],
   "source": [
    "# class Model(torch.nn.Module):\n",
    "  \n",
    "#     def __init__(self,input_dimensions,size = 8):\n",
    "    \n",
    "#         super().__init__()\n",
    "#         self.layer_one = torch.nn.Linear(input_dimensions,size)\n",
    "#         self.activation_one = torch.nn.ReLU()\n",
    "#         self.layer_two = torch.nn.Linear(size,size)\n",
    "#         self.activation_two = torch.nn.ReLU()\n",
    "#         self.shape_outputs = torch.nn.Linear(size,5)\n",
    "        \n",
    "\n",
    "#     def forward(self,inputs):\n",
    "#         buffer = self.layer_one(inputs)\n",
    "#         buffer = self.activation_one(buffer)\n",
    "#         buffer = self.layer_two(buffer)\n",
    "#         buffer = self.activation_two(buffer)\n",
    "#         buffer = self.shape_outputs(buffer)\n",
    "#         return torch.nn.functional.softmax(buffer,dim = -1)\n",
    "  \n",
    "\n",
    "  \n",
    "  \n",
    "  class Model(torch.nn.Module):\n",
    "  \n",
    "    def __init__(self,input_dimensions,size = 10):\n",
    "    \n",
    "        super().__init__()\n",
    "        self.layer_1 = torch.nn.Linear(input_dimensions,size)\n",
    "        self.activation_1 = torch.nn.ReLU()\n",
    "        self.layer_2 = torch.nn.Linear(size,size)\n",
    "        self.activation_2 = torch.nn.ReLU()\n",
    "        self.layer_3 = torch.nn.Linear(size,size)\n",
    "        self.activation_3 = torch.nn.ReLU()\n",
    "        self.layer_4 = torch.nn.Linear(size,size)\n",
    "        self.activation_4 = torch.nn.ReLU()\n",
    "        self.layer_5 = torch.nn.Linear(size,size)\n",
    "        self.activation_5 = torch.nn.ReLU()\n",
    "        self.layer_6 = torch.nn.Linear(size,size)\n",
    "        self.activation_6 = torch.nn.ReLU()\n",
    "        self.layer_7 = torch.nn.Linear(size,size)\n",
    "        self.activation_7 = torch.nn.ReLU()\n",
    "        self.layer_8 = torch.nn.Linear(size,size)\n",
    "        self.activation_8 = torch.nn.ReLU()\n",
    "        self.layer_9 = torch.nn.Linear(size,size)\n",
    "        self.activation_9 = torch.nn.ReLU()\n",
    "        self.shape_outputs = torch.nn.Linear(size,5)\n",
    "        \n",
    "\n",
    "    def forward(self,inputs):\n",
    "      ## First Layer\n",
    "        buffer = self.layer_1(inputs)\n",
    "        buffer = self.activation_1(buffer)\n",
    "        Shortcut = buffer\n",
    "        \n",
    "        ## First Block\n",
    "        buffer = self.layer_2(buffer)\n",
    "        buffer = self.activation_2(buffer)\n",
    "        buffer = self.layer_3(buffer + Shortcut )\n",
    "        buffer = self.activation_3(buffer)\n",
    "        Shortcut = buffer\n",
    "\n",
    "        \n",
    "        ## Second Block\n",
    "        buffer = self.layer_4(buffer)\n",
    "        buffer = self.activation_4(buffer)\n",
    "        buffer = self.layer_5(buffer + Shortcut )\n",
    "        buffer = self.activation_5(buffer)\n",
    "        Shortcut = buffer\n",
    "        \n",
    "        \n",
    "        ## Third Block\n",
    "        buffer = self.layer_6(buffer)\n",
    "        buffer = self.activation_6(buffer)\n",
    "        buffer = self.layer_7(buffer + Shortcut )\n",
    "        buffer = self.activation_7(buffer)\n",
    "        Shortcut = buffer        \n",
    "        \n",
    "        ## Fourth Block\n",
    "        buffer = self.layer_8(buffer)\n",
    "        buffer = self.activation_8(buffer)\n",
    "        buffer = self.layer_9(buffer + Shortcut )\n",
    "        buffer = self.activation_9(buffer)  \n",
    "        \n",
    "        buffer = self.shape_outputs(buffer)\n",
    "        return torch.nn.functional.softmax(buffer,dim = -1)\n",
    "  \n"
   ]
  },
  {
   "cell_type": "code",
   "execution_count": 0,
   "metadata": {
    "colab": {},
    "colab_type": "code",
    "id": "PZrod6IHSKiO"
   },
   "outputs": [],
   "source": [
    "\n",
    "model = Model(DataSet[0][0].shape[0])\n",
    "\n",
    "\n",
    "# optimizer = torch.optim.Adam(model.parameters())\n",
    "loss_function = torch.nn.BCELoss()\n",
    "\n",
    "\n",
    "if torch.cuda.is_available():\n",
    "  device = torch.device('cuda')\n",
    "else: device = torch.device('cpu')"
   ]
  },
  {
   "cell_type": "code",
   "execution_count": 8,
   "metadata": {
    "colab": {
     "base_uri": "https://localhost:8080/",
     "height": 230
    },
    "colab_type": "code",
    "executionInfo": {
     "elapsed": 2779,
     "status": "ok",
     "timestamp": 1561895168640,
     "user": {
      "displayName": "Benjamin Bodner",
      "photoUrl": "",
      "userId": "00792548603420028130"
     },
     "user_tz": -180
    },
    "id": "yWI6B-8owqk6",
    "outputId": "08722d56-59bc-4fd7-ee0e-2adb12c8fa71"
   },
   "outputs": [
    {
     "name": "stdout",
     "output_type": "stream",
     "text": [
      "Needed_Shapes_Of_WB\n",
      "[torch.Size([10, 5]), torch.Size([10]), torch.Size([10, 10]), torch.Size([10]), torch.Size([10, 10]), torch.Size([10]), torch.Size([10, 10]), torch.Size([10]), torch.Size([10, 10]), torch.Size([10]), torch.Size([10, 10]), torch.Size([10]), torch.Size([10, 10]), torch.Size([10]), torch.Size([10, 10]), torch.Size([10]), torch.Size([10, 10]), torch.Size([10]), torch.Size([5, 10]), torch.Size([5])]\n",
      "\n",
      "Number_Of_Parmeters_For_These_WB\n",
      "[50, 10, 100, 10, 100, 10, 100, 10, 100, 10, 100, 10, 100, 10, 100, 10, 100, 10, 50, 5]\n",
      "\n",
      "Cum_Sum_Of_Indexes\n",
      "[  0  50  60 160 170 270 280 380 390 490 500 600 610 710 720 820 830 930\n",
      " 940 990 995]\n",
      "\n",
      "Total_Number_Of_Parameters 995\n"
     ]
    }
   ],
   "source": [
    "def Number_Of_Parameters(model):\n",
    "    model_parameters = filter(lambda p: p.requires_grad, model.parameters())\n",
    "    return sum([np.prod(p.size()) for p in model_parameters])\n",
    "\n",
    "\n",
    "\n",
    "Total_Number_Of_Parameters = Number_Of_Parameters(model)\n",
    "\n",
    "\n",
    "model_parameters = filter(lambda p: p.requires_grad, model.parameters())\n",
    "i = 0\n",
    "Needed_Shapes_Of_WB = []\n",
    "Number_Of_Parmeters_For_These_WB = []\n",
    "for p in model_parameters:\n",
    "    i+=1\n",
    "\n",
    "    Number_Of_Parmeters_For_These_WB.append(np.prod(p.size()))\n",
    "    Needed_Shapes_Of_WB.append(p.shape)\n",
    "    \n",
    "\n",
    "print(\"Needed_Shapes_Of_WB\")\n",
    "print(Needed_Shapes_Of_WB)\n",
    "print()\n",
    "print(\"Number_Of_Parmeters_For_These_WB\")\n",
    "print(Number_Of_Parmeters_For_These_WB)\n",
    "print()\n",
    "\n",
    "Cum_Sum_Of_Indexes = np.cumsum(Number_Of_Parmeters_For_These_WB)\n",
    "Cum_Sum_Of_Indexes = np.concatenate(([0],Cum_Sum_Of_Indexes))\n",
    "\n",
    "\n",
    "print(\"Cum_Sum_Of_Indexes\")\n",
    "print(Cum_Sum_Of_Indexes)\n",
    "\n",
    "\n",
    "\n",
    "print()\n",
    "print(\"Total_Number_Of_Parameters\", Total_Number_Of_Parameters)"
   ]
  },
  {
   "cell_type": "code",
   "execution_count": 9,
   "metadata": {
    "colab": {
     "base_uri": "https://localhost:8080/",
     "height": 404
    },
    "colab_type": "code",
    "executionInfo": {
     "elapsed": 3014,
     "status": "ok",
     "timestamp": 1561895168886,
     "user": {
      "displayName": "Benjamin Bodner",
      "photoUrl": "",
      "userId": "00792548603420028130"
     },
     "user_tz": -180
    },
    "id": "g-NZKb7Nsh3L",
    "outputId": "87f89434-9be9-4913-cb09-d09cb7df44a2"
   },
   "outputs": [
    {
     "name": "stdout",
     "output_type": "stream",
     "text": [
      "Object Number =  1                        Object Shape =  torch.Size([10, 5])\n",
      "Object Number =  2                        Object Shape =  torch.Size([10])\n",
      "Object Number =  3                        Object Shape =  torch.Size([10, 10])\n",
      "Object Number =  4                        Object Shape =  torch.Size([10])\n",
      "Object Number =  5                        Object Shape =  torch.Size([10, 10])\n",
      "Object Number =  6                        Object Shape =  torch.Size([10])\n",
      "Object Number =  7                        Object Shape =  torch.Size([10, 10])\n",
      "Object Number =  8                        Object Shape =  torch.Size([10])\n",
      "Object Number =  9                        Object Shape =  torch.Size([10, 10])\n",
      "Object Number =  10                        Object Shape =  torch.Size([10])\n",
      "Object Number =  11                        Object Shape =  torch.Size([10, 10])\n",
      "Object Number =  12                        Object Shape =  torch.Size([10])\n",
      "Object Number =  13                        Object Shape =  torch.Size([10, 10])\n",
      "Object Number =  14                        Object Shape =  torch.Size([10])\n",
      "Object Number =  15                        Object Shape =  torch.Size([10, 10])\n",
      "Object Number =  16                        Object Shape =  torch.Size([10])\n",
      "Object Number =  17                        Object Shape =  torch.Size([10, 10])\n",
      "Object Number =  18                        Object Shape =  torch.Size([10])\n",
      "Object Number =  19                        Object Shape =  torch.Size([5, 10])\n",
      "Object Number =  20                        Object Shape =  torch.Size([5])\n",
      "\n",
      "Total number of objects which contain optimizable parameters =  20\n"
     ]
    }
   ],
   "source": [
    "def Load_Parameters_Into_Model(model,Suggested_Sample,Cum_Sum_Of_Indexes,Needed_Shapes_Of_WB):\n",
    "    \n",
    "    model_parameters1 = filter(lambda p: p.requires_grad, model.parameters())\n",
    "    i = -1\n",
    "    for p in model_parameters1:\n",
    "        i+=1\n",
    "\n",
    "\n",
    "        \n",
    "        if len(p.shape) == 1: ### This is a bias vector\n",
    "            bias = np.reshape(Suggested_Sample[Cum_Sum_Of_Indexes[i]:Cum_Sum_Of_Indexes[i+1]],(Needed_Shapes_Of_WB[i]))\n",
    "            p.data = torch.nn.Parameter(torch.Tensor(bias))\n",
    "\n",
    "        if len(p.shape) == 2: ### This is a weights matrix\n",
    "            Weight = np.reshape(Suggested_Sample[Cum_Sum_Of_Indexes[i]:Cum_Sum_Of_Indexes[i+1]],(Needed_Shapes_Of_WB[i][0],Needed_Shapes_Of_WB[i][1]))    \n",
    "            p.data = torch.nn.Parameter(torch.Tensor(Weight))\n",
    "\n",
    "            \n",
    "        if len(p.shape) == 3: ### This is a Conv1D array\n",
    "            Conv1D = np.reshape(Suggested_Sample[Cum_Sum_Of_Indexes[i]:Cum_Sum_Of_Indexes[i+1]],\\\n",
    "                                (Needed_Shapes_Of_WB[i][0],Needed_Shapes_Of_WB[i][1],Needed_Shapes_Of_WB[i][2]))\n",
    "            p.data = torch.nn.Parameter(torch.Tensor(Conv1D))         \n",
    "            \n",
    "        if len(p.shape) == 4: ### This is a Conv2D array\n",
    "            Conv2D = np.reshape(Suggested_Sample[Cum_Sum_Of_Indexes[i]:Cum_Sum_Of_Indexes[i+1]],\\\n",
    "                                (Needed_Shapes_Of_WB[i][0],Needed_Shapes_Of_WB[i][1],\\\n",
    "                                 Needed_Shapes_Of_WB[i][2],Needed_Shapes_Of_WB[i][3]))\n",
    "            p.data = torch.nn.Parameter(torch.Tensor(Conv2D))  \n",
    "            \n",
    "        if len(p.shape) == 5: ### This is a Conv3D array\n",
    "            Conv3D= np.reshape(Suggested_Sample[Cum_Sum_Of_Indexes[i]:Cum_Sum_Of_Indexes[i+1]],\\\n",
    "                               (Needed_Shapes_Of_WB[i][0],Needed_Shapes_Of_WB[i][1],\\\n",
    "                               Needed_Shapes_Of_WB[i][2],Needed_Shapes_Of_WB[i][3],Needed_Shapes_Of_WB[i][4]))\n",
    "            p.data = torch.nn.Parameter(torch.Tensor(Conv3D)) \n",
    "            \n",
    "            \n",
    "    return model\n",
    "            \n",
    "    \n",
    "    \n",
    "    \n",
    "    \n",
    "Test_Loading_Parameters = 1\n",
    "if Test_Loading_Parameters:\n",
    "    Suggested_Sample = np.random.rand(Total_Number_Of_Parameters)\n",
    "    model1 = Load_Parameters_Into_Model(model,Suggested_Sample,Cum_Sum_Of_Indexes,Needed_Shapes_Of_WB)\n",
    "\n",
    "\n",
    "\n",
    "model_parameters1 = filter(lambda p: p.requires_grad, model1.parameters())\n",
    "i = 0\n",
    "for p in model_parameters1:\n",
    "    i +=1\n",
    "    print(\"Object Number = \" ,i, \"                       Object Shape = \", p.shape)\n",
    "print()\n",
    "print(\"Total number of objects which contain optimizable parameters = \", i)\n"
   ]
  },
  {
   "cell_type": "code",
   "execution_count": 0,
   "metadata": {
    "colab": {},
    "colab_type": "code",
    "id": "g-oBiT4nwqk-"
   },
   "outputs": [],
   "source": [
    "number_for_testing = int(len(DataSet)*0.05)\n",
    "number_for_training = len(DataSet) - number_for_testing\n",
    "\n",
    "\n",
    "\n",
    "# Batch_Size_ATM = 256\n",
    "Batch_Size_ATM = 128\n",
    "\n",
    "# Batch_Size_ATM = 2048\n",
    "# Batch_Size_ATM = 4096\n",
    "Batch_Size_SGD = 32\n",
    "\n",
    "train_ATM,test_ATM = torch.utils.data.random_split(DataSet,[number_for_training,number_for_testing ])\n",
    "training_ATM = torch.utils.data.DataLoader(train_ATM,batch_size=Batch_Size_ATM,shuffle=True)\n",
    "\n",
    "train_SGD,test_SGD = torch.utils.data.random_split(DataSet,[number_for_training,number_for_testing ])\n",
    "training_SGD = torch.utils.data.DataLoader(train_SGD,batch_size=Batch_Size_SGD,shuffle=True)"
   ]
  },
  {
   "cell_type": "code",
   "execution_count": 0,
   "metadata": {
    "colab": {},
    "colab_type": "code",
    "id": "GWDscsNVIxtP"
   },
   "outputs": [],
   "source": [
    "def Calculate_Train_Loss_For_Model_SGD(model_SGD):\n",
    "    train_set_of_size_test_SGD = torch.utils.data.DataLoader(train_SGD,batch_size=len(test_SGD),shuffle=False)\n",
    "\n",
    "    for inputs, outputs in train_set_of_size_test_SGD:\n",
    "        inputs = inputs.to(device)\n",
    "        outputs = outputs.to(device)\n",
    "        model_SGD.to(device)\n",
    "        with torch.no_grad():\n",
    "          results = model_SGD(inputs).detach()\n",
    "          Train_Loss_SGD = loss_function(results,outputs)\n",
    "          \n",
    "          \n",
    "        results = results.to('cpu').numpy()\n",
    "        results = results>0.5\n",
    "        actuals = outputs.to('cpu').numpy()\n",
    "        Train_Accuracy_SGD = sklearn.metrics.accuracy_score(actuals,results)\n",
    "        break\n",
    "\n",
    "    return Train_Loss_SGD, Train_Accuracy_SGD\n",
    "        \n",
    "        \n",
    "def Calculate_Test_Loss_For_Model_SGD(model_SGD):\n",
    "    test_SGD1 = torch.utils.data.DataLoader(test_SGD,batch_size=len(test_SGD),shuffle=False)\n",
    "\n",
    "    for inputs, outputs in test_SGD1:\n",
    "        inputs = inputs.to(device)\n",
    "        outputs = outputs.to(device)\n",
    "        model_SGD.to(device)\n",
    "        with torch.no_grad():\n",
    "          results = model_SGD(inputs).detach()\n",
    "          Test_Loss_SGD = loss_function(results,outputs)\n",
    "          \n",
    "        results = results.to('cpu').numpy()\n",
    "        results = results>0.5\n",
    "        actuals = outputs.to('cpu').numpy()\n",
    "        Test_Accuracy_SGD = sklearn.metrics.accuracy_score(actuals,results)\n",
    "        break\n",
    "\n",
    "    return Test_Loss_SGD  , Test_Accuracy_SGD    \n",
    "      \n",
    "      \n",
    "      \n",
    "      \n",
    "def Calculate_Train_Loss_For_Model_ATM(ATM_Optimized_Model_Parameters):\n",
    "    model_ATM = Load_Parameters_Into_Model(model,ATM_Optimized_Model_Parameters,Cum_Sum_Of_Indexes,Needed_Shapes_Of_WB)\n",
    "    train_set_of_size_test_ATM = torch.utils.data.DataLoader(train_ATM,batch_size=len(test_ATM),shuffle=False)\n",
    "    \n",
    "    for inputs, outputs in train_set_of_size_test_ATM:\n",
    "        inputs = inputs.to(device)\n",
    "        outputs = outputs.to(device)\n",
    "        model_ATM.to(device)\n",
    "        with torch.no_grad():\n",
    "          results = model_ATM(inputs)\n",
    "          Train_Loss_ATM = loss_function(results,outputs)\n",
    "          \n",
    "        results = results.to('cpu').numpy()\n",
    "        results = results>0.5\n",
    "        actuals = outputs.to('cpu').numpy()\n",
    "        Train_Accuracy_ATM = sklearn.metrics.accuracy_score(actuals,results)\n",
    "        break\n",
    "\n",
    "    return Train_Loss_ATM, Train_Accuracy_ATM\n",
    "  \n",
    "  \n",
    "  \n",
    "  \n",
    "def Calculate_Test_Loss_For_Model_ATM(ATM_Optimized_Model_Parameters):\n",
    "    model_ATM = Load_Parameters_Into_Model(model,ATM_Optimized_Model_Parameters,Cum_Sum_Of_Indexes,Needed_Shapes_Of_WB)\n",
    "    test_ATM1 = torch.utils.data.DataLoader(test_ATM,batch_size=len(test_ATM),shuffle=False)\n",
    "    \n",
    "    for inputs, outputs in test_ATM1:\n",
    "        inputs = inputs.to(device)\n",
    "        outputs = outputs.to(device)\n",
    "        model_ATM.to(device)\n",
    "        with torch.no_grad():\n",
    "          results = model_ATM(inputs)\n",
    "          Test_Loss_ATM = loss_function(results,outputs)\n",
    "          \n",
    "        results = results.to('cpu').numpy()\n",
    "        results = results>0.5\n",
    "        actuals = outputs.to('cpu').numpy()\n",
    "        Test_Accuracy_ATM = sklearn.metrics.accuracy_score(actuals,results)\n",
    "        break\n",
    "\n",
    "    return Test_Loss_ATM  , Test_Accuracy_ATM\n",
    "  \n",
    "  \n",
    "  \n",
    "  \n",
    "#### Change these functions - so that they return the accuracy as well"
   ]
  },
  {
   "cell_type": "code",
   "execution_count": 0,
   "metadata": {
    "colab": {},
    "colab_type": "code",
    "id": "G4-Dyv7GwqlA"
   },
   "outputs": [],
   "source": [
    "\n",
    "def Run_Optimization_Test_On_ATM(Initial_Parameter_Vector,Number_Of_Tests,Number_Of_Epochs_In_Each_Test,Loss_Array,Time_Vector,Train_Loss_ATM, Test_Loss_ATM, Train_Accuracy_ATM, Test_Accuracy_ATM):\n",
    "    Loss_List_From_ATM = []\n",
    "\n",
    "\n",
    "    Number_Of_ATM_Steps_In_Each_Batch = 3\n",
    "    remaining_evals = 64*Number_Of_ATM_Steps_In_Each_Batch\n",
    "\n",
    "    MiniBatch_Number = 0\n",
    "    t1 = time.time()\n",
    "    \n",
    "    \n",
    "    if test == 0:\n",
    "      Train_Loss_ATM= np.zeros((Number_Of_Epochs_In_Each_Test+1,Number_Of_Tests))\n",
    "      Test_Loss_ATM = np.zeros((Number_Of_Epochs_In_Each_Test+1,Number_Of_Tests))\n",
    "      Train_Accuracy_ATM = np.zeros((Number_Of_Epochs_In_Each_Test+1,Number_Of_Tests))\n",
    "      Test_Accuracy_ATM = np.zeros((Number_Of_Epochs_In_Each_Test+1,Number_Of_Tests))\n",
    "      \n",
    "\n",
    "\n",
    "    Train_Loss_ATM[0,test], Train_Accuracy_ATM[0,test] = Calculate_Train_Loss_For_Model_ATM(Initial_Parameter_Vector)\n",
    "    Test_Loss_ATM[0,test], Test_Accuracy_ATM[0,test] = Calculate_Test_Loss_For_Model_ATM(Initial_Parameter_Vector)\n",
    "\n",
    "    \n",
    "    for epoch in range(Number_Of_Epochs_In_Each_Test):\n",
    "        print(\"Training with ATM on epoch: \",epoch+1)\n",
    "        if epoch == 0:\n",
    "            Best_Parameters = Initial_Parameter_Vector*Parameter_Space_Shirnkage_Factor\n",
    "\n",
    "        for inputs,outputs in tqdm(training_ATM):\n",
    "            \n",
    "            inputs = inputs.to(device)\n",
    "            outputs = outputs.to(device)\n",
    "        \n",
    "        \n",
    "            def fun(Parameter_Vector):\n",
    "            ## This changes the size of the search space\n",
    "#                 Parameter_Vector = Parameter_Vector*Parameter_Space_Shirnkage_Factor\n",
    "              \n",
    "#               ## This sets all parameters to zero if they are below a certain threshold\n",
    "#                 Parameter_Vector  = Parameter_Vector *(np.abs(Parameter_Vector ) > Threshold_For_Elimination)\n",
    "                \n",
    "                \n",
    "                model1 = Load_Parameters_Into_Model(model,Parameter_Vector,Cum_Sum_Of_Indexes,Needed_Shapes_Of_WB)\n",
    "                \n",
    "                model1.to(device)\n",
    "                with torch.no_grad():\n",
    "                    results = model1(inputs)\n",
    "                \n",
    "                loss = loss_function(results,outputs).to('cpu').numpy() + Weight_Decay*np.sum(Parameter_Vector**2)\n",
    "                return loss\n",
    "    \n",
    "    \n",
    "            Number_Of_Samples = inputs.shape[0]\n",
    "            MiniBatch_Number +=1\n",
    "            Percent_Complete = MiniBatch_Number*Number_Of_Samples/number_for_training\n",
    "\n",
    "            if Print_Cost:\n",
    "                print(\"Loss Before Training On Batch\",fun(Best_Parameters))\n",
    "            Best_Parameters = Adaptive_Two_Mode.Optimize(fun, Best_Parameters, remaining_evals )\n",
    "            Loss_List_From_ATM.append(fun(Best_Parameters))\n",
    "            \n",
    "\n",
    "        Train_Loss_ATM[epoch+1,test], Train_Accuracy_ATM[epoch+1,test] = Calculate_Train_Loss_For_Model_ATM(Best_Parameters)\n",
    "        Test_Loss_ATM[epoch+1,test], Test_Accuracy_ATM[epoch+1,test] = Calculate_Test_Loss_For_Model_ATM(Best_Parameters)\n",
    "        print()\n",
    "        print(\"Train_Loss_ATM[epoch]\",Train_Loss_ATM[epoch+1,test])\n",
    "        print(\"Test_Loss_ATM[epoch]\",Test_Loss_ATM[epoch+1,test])\n",
    "        print(\"Train_Accuracy_ATM[epoch]\",Train_Accuracy_ATM[epoch+1,test])\n",
    "        print(\"Test_Accuracy_ATM[epoch]\",Test_Accuracy_ATM[epoch+1,test])      \n",
    "      \n",
    "      \n",
    "    print()\n",
    "    print(\"Finished Training\")\n",
    "    Total_Time = time.time() - t1\n",
    "    print(\"Total Time\", Total_Time)\n",
    "    print(\"Total Time if we had perfect paralelization\", Total_Time/64)\n",
    "    print()\n",
    "    Loss_Vector = np.array([Loss_List_From_ATM])\n",
    "\n",
    "    if test == 0:\n",
    "        Number_Of_Minibatches = len(Loss_Vector[0,:])\n",
    "        Loss_Array = np.zeros((len(Loss_Vector[0,:]), Number_Of_Tests))\n",
    "        Time_Vector = np.zeros(Number_Of_Tests)\n",
    "\n",
    "    Loss_Array[:,test] =   Loss_Vector \n",
    "    Time_Vector[test] = Total_Time\n",
    "\n",
    "\n",
    "\n",
    "    return Loss_Array,Time_Vector,Best_Parameters,  Train_Loss_ATM, Test_Loss_ATM, Train_Accuracy_ATM, Test_Accuracy_ATM\n",
    "\n"
   ]
  },
  {
   "cell_type": "code",
   "execution_count": 0,
   "metadata": {
    "colab": {},
    "colab_type": "code",
    "id": "T_RAPqLQwqlC"
   },
   "outputs": [],
   "source": [
    "\n",
    "def Run_Optimization_Test_On_SGD(model,Initial_Parameter_Vector,Number_Of_Tests,Number_Of_Epochs_In_Each_Test,Loss_Array,Time_Vector,Train_Loss_SGD, Test_Loss_SGD, Train_Accuracy_SGD, Test_Accuracy_SGD,test):\n",
    "\n",
    "    model = Load_Parameters_Into_Model(model,Initial_Parameter_Vector,Cum_Sum_Of_Indexes,Needed_Shapes_Of_WB)\n",
    "    model.to(device)\n",
    "    \n",
    "    if Gradient_Algorithm_Name == 'ADAM':\n",
    "      optimizer = torch.optim.Adam(model.parameters())\n",
    "    if Gradient_Algorithm_Name == 'SGD':\n",
    "      optimizer =torch.optim.SGD(model.parameters(), lr=0.01, momentum=0.9)\n",
    "\n",
    "    if test == 0:\n",
    "      Train_Loss_SGD = np.zeros((Number_Of_Epochs_In_Each_Test+1,Number_Of_Tests))\n",
    "      Test_Loss_SGD = np.zeros((Number_Of_Epochs_In_Each_Test+1,Number_Of_Tests))\n",
    "      Train_Accuracy_SGD = np.zeros((Number_Of_Epochs_In_Each_Test+1,Number_Of_Tests))\n",
    "      Test_Accuracy_SGD = np.zeros((Number_Of_Epochs_In_Each_Test+1,Number_Of_Tests))\n",
    "\n",
    "    Train_Loss_SGD[0,test], Train_Accuracy_SGD[0,test] = Calculate_Train_Loss_For_Model_SGD(model)\n",
    "    Test_Loss_SGD[0,test], Test_Accuracy_SGD[0,test] = Calculate_Test_Loss_For_Model_SGD(model)\n",
    "\n",
    "\n",
    "\n",
    "    MiniBatch_Number = 0\n",
    "    Loss_list_From_SGD = []\n",
    "    t1 = time.time()\n",
    "    for epoch in range(Number_Of_Epochs_In_Each_Test):\n",
    "        print(\"Training with \" +Gradient_Algorithm_Name+\" on epoch: \",epoch+1)\n",
    "        for inputs,outputs in tqdm(training_SGD):\n",
    "            MiniBatch_Number +=1\n",
    "\n",
    "            Number_Of_Samples = inputs.shape[0]\n",
    "            \n",
    "            Percent_Complete = MiniBatch_Number*Number_Of_Samples/number_for_training\n",
    "            \n",
    "            inputs = inputs.to(device)\n",
    "            outputs = outputs.to(device)\n",
    "            \n",
    "\n",
    "            optimizer.zero_grad()\n",
    "            results = model(inputs)\n",
    "            loss = loss_function(results,outputs)\n",
    "            loss.backward()\n",
    "            optimizer.step()\n",
    "            Loss_list_From_SGD.append(loss)\n",
    "            if Print_Cost:\n",
    "                print(\"Loss: {0}\".format(loss))\n",
    "\n",
    "        Train_Loss_SGD[epoch+1,test], Train_Accuracy_SGD[epoch+1,test] = Calculate_Train_Loss_For_Model_SGD(model)\n",
    "        Test_Loss_SGD[epoch+1,test], Test_Accuracy_SGD[epoch+1,test] = Calculate_Test_Loss_For_Model_SGD(model)\n",
    "        print()\n",
    "        print(\"Train_Loss_\" + Gradient_Algorithm_Name +\"[epoch]\",Train_Loss_SGD[epoch+1,test])\n",
    "        print(\"Test_Loss_\" + Gradient_Algorithm_Name +\"[epoch]\",Test_Loss_SGD[epoch+1,test])   \n",
    "        print(\"Train_Accuracy_\" + Gradient_Algorithm_Name +\"[epoch]\",Train_Accuracy_SGD[epoch+1,test])\n",
    "        print(\"Test_Accuracy_\" + Gradient_Algorithm_Name +\"[epoch]\",Test_Accuracy_SGD[epoch+1,test])  \n",
    "        \n",
    "        \n",
    "    print()  \n",
    "    print(\"Finished Training\")\n",
    "    Total_Time = time.time() - t1\n",
    "    print(\"Total Time\", Total_Time)\n",
    "    print() \n",
    "    Loss_Vector = np.array([Loss_list_From_SGD])\n",
    "\n",
    "    \n",
    "    if test == 0:\n",
    "        Number_Of_Minibatches = len(Loss_Vector[0,:])\n",
    "        Loss_Array = np.zeros((len(Loss_Vector[0,:]), Number_Of_Tests))\n",
    "        Time_Vector = np.zeros(Number_Of_Tests)\n",
    "\n",
    "\n",
    "    Loss_Array[:,test] =   Loss_Vector \n",
    "    Time_Vector[test] = Total_Time\n",
    "\n",
    "    return Loss_Array,Time_Vector,model, Train_Loss_SGD, Test_Loss_SGD, Train_Accuracy_SGD, Test_Accuracy_SGD\n"
   ]
  },
  {
   "cell_type": "code",
   "execution_count": 0,
   "metadata": {
    "colab": {},
    "colab_type": "code",
    "id": "uSuKDi9LpWjV"
   },
   "outputs": [],
   "source": [
    "\n",
    "\n",
    "\n",
    "\n",
    "\n",
    "\n",
    "\n"
   ]
  },
  {
   "cell_type": "code",
   "execution_count": 14,
   "metadata": {
    "colab": {
     "base_uri": "https://localhost:8080/",
     "height": 1000
    },
    "colab_type": "code",
    "executionInfo": {
     "elapsed": 812738,
     "status": "ok",
     "timestamp": 1561899590776,
     "user": {
      "displayName": "Benjamin Bodner",
      "photoUrl": "",
      "userId": "00792548603420028130"
     },
     "user_tz": -180
    },
    "id": "235Glxg9wqlE",
    "outputId": "0bce8a27-77ce-498d-a9dc-c9f385552cdb"
   },
   "outputs": [
    {
     "name": "stdout",
     "output_type": "stream",
     "text": [
      "weight decay 0\n",
      "0\n",
      "Now running test number:  0\n",
      "----------------------------------------------------\n"
     ]
    },
    {
     "name": "stderr",
     "output_type": "stream",
     "text": [
      "\r",
      "  0%|          | 0/232 [00:00<?, ?it/s]"
     ]
    },
    {
     "name": "stdout",
     "output_type": "stream",
     "text": [
      "Training with ATM on epoch:  1\n"
     ]
    },
    {
     "name": "stderr",
     "output_type": "stream",
     "text": [
      "100%|██████████| 232/232 [02:41<00:00,  1.44it/s]\n",
      "  0%|          | 0/232 [00:00<?, ?it/s]"
     ]
    },
    {
     "name": "stdout",
     "output_type": "stream",
     "text": [
      "\n",
      "Train_Loss_ATM[epoch] 0.35741209983825684\n",
      "Test_Loss_ATM[epoch] 0.3624357283115387\n",
      "Train_Accuracy_ATM[epoch] 0.31946222791293216\n",
      "Test_Accuracy_ATM[epoch] 0.29641485275288093\n",
      "Training with ATM on epoch:  2\n"
     ]
    },
    {
     "name": "stderr",
     "output_type": "stream",
     "text": [
      "100%|██████████| 232/232 [02:40<00:00,  1.43it/s]\n",
      "  0%|          | 0/232 [00:00<?, ?it/s]"
     ]
    },
    {
     "name": "stdout",
     "output_type": "stream",
     "text": [
      "\n",
      "Train_Loss_ATM[epoch] 0.3466051518917084\n",
      "Test_Loss_ATM[epoch] 0.35094785690307617\n",
      "Train_Accuracy_ATM[epoch] 0.353393085787452\n",
      "Test_Accuracy_ATM[epoch] 0.3373879641485275\n",
      "Training with ATM on epoch:  3\n"
     ]
    },
    {
     "name": "stderr",
     "output_type": "stream",
     "text": [
      "100%|██████████| 232/232 [02:41<00:00,  1.44it/s]\n",
      "  0%|          | 0/232 [00:00<?, ?it/s]"
     ]
    },
    {
     "name": "stdout",
     "output_type": "stream",
     "text": [
      "\n",
      "Train_Loss_ATM[epoch] 0.299320250749588\n",
      "Test_Loss_ATM[epoch] 0.309028685092926\n",
      "Train_Accuracy_ATM[epoch] 0.3585147247119078\n",
      "Test_Accuracy_ATM[epoch] 0.33354673495518566\n",
      "Training with ATM on epoch:  4\n"
     ]
    },
    {
     "name": "stderr",
     "output_type": "stream",
     "text": [
      "100%|██████████| 232/232 [02:41<00:00,  1.44it/s]\n",
      "  0%|          | 0/232 [00:00<?, ?it/s]"
     ]
    },
    {
     "name": "stdout",
     "output_type": "stream",
     "text": [
      "\n",
      "Train_Loss_ATM[epoch] 0.29135265946388245\n",
      "Test_Loss_ATM[epoch] 0.2979418635368347\n",
      "Train_Accuracy_ATM[epoch] 0.5032010243277849\n",
      "Test_Accuracy_ATM[epoch] 0.4788732394366197\n",
      "Training with ATM on epoch:  5\n"
     ]
    },
    {
     "name": "stderr",
     "output_type": "stream",
     "text": [
      "100%|██████████| 232/232 [02:40<00:00,  1.44it/s]\n",
      "  0%|          | 0/232 [00:00<?, ?it/s]"
     ]
    },
    {
     "name": "stdout",
     "output_type": "stream",
     "text": [
      "\n",
      "Train_Loss_ATM[epoch] 0.2573159337043762\n",
      "Test_Loss_ATM[epoch] 0.2529776990413666\n",
      "Train_Accuracy_ATM[epoch] 0.5973111395646606\n",
      "Test_Accuracy_ATM[epoch] 0.5761843790012804\n",
      "Training with ATM on epoch:  6\n"
     ]
    },
    {
     "name": "stderr",
     "output_type": "stream",
     "text": [
      "100%|██████████| 232/232 [02:40<00:00,  1.43it/s]\n",
      "  0%|          | 0/232 [00:00<?, ?it/s]"
     ]
    },
    {
     "name": "stdout",
     "output_type": "stream",
     "text": [
      "\n",
      "Train_Loss_ATM[epoch] 0.26068589091300964\n",
      "Test_Loss_ATM[epoch] 0.2573586702346802\n",
      "Train_Accuracy_ATM[epoch] 0.5467349551856594\n",
      "Test_Accuracy_ATM[epoch] 0.5492957746478874\n",
      "Training with ATM on epoch:  7\n"
     ]
    },
    {
     "name": "stderr",
     "output_type": "stream",
     "text": [
      "100%|██████████| 232/232 [02:40<00:00,  1.45it/s]\n",
      "  0%|          | 0/232 [00:00<?, ?it/s]"
     ]
    },
    {
     "name": "stdout",
     "output_type": "stream",
     "text": [
      "\n",
      "Train_Loss_ATM[epoch] 0.22182585299015045\n",
      "Test_Loss_ATM[epoch] 0.21354028582572937\n",
      "Train_Accuracy_ATM[epoch] 0.6875800256081946\n",
      "Test_Accuracy_ATM[epoch] 0.6971830985915493\n",
      "Training with ATM on epoch:  8\n"
     ]
    },
    {
     "name": "stderr",
     "output_type": "stream",
     "text": [
      "100%|██████████| 232/232 [02:40<00:00,  1.45it/s]\n"
     ]
    },
    {
     "name": "stdout",
     "output_type": "stream",
     "text": [
      "\n",
      "Train_Loss_ATM[epoch] 0.19834400713443756\n",
      "Test_Loss_ATM[epoch] 0.20570994913578033\n",
      "Train_Accuracy_ATM[epoch] 0.6997439180537772\n",
      "Test_Accuracy_ATM[epoch] 0.6754161331626121\n",
      "\n",
      "Finished Training\n",
      "Total Time 1301.9770686626434\n",
      "Total Time if we had perfect paralelization 20.343391697853804\n",
      "\n"
     ]
    },
    {
     "name": "stderr",
     "output_type": "stream",
     "text": [
      "  1%|          | 6/928 [00:00<00:17, 52.86it/s]"
     ]
    },
    {
     "name": "stdout",
     "output_type": "stream",
     "text": [
      "Training with ADAM on epoch:  1\n"
     ]
    },
    {
     "name": "stderr",
     "output_type": "stream",
     "text": [
      "100%|██████████| 928/928 [00:17<00:00, 52.92it/s]\n",
      "  1%|          | 6/928 [00:00<00:16, 56.00it/s]"
     ]
    },
    {
     "name": "stdout",
     "output_type": "stream",
     "text": [
      "\n",
      "Train_Loss_ADAM[epoch] 0.33889520168304443\n",
      "Test_Loss_ADAM[epoch] 0.3429836332798004\n",
      "Train_Accuracy_ADAM[epoch] 0.2701664532650448\n",
      "Test_Accuracy_ADAM[epoch] 0.2554417413572343\n",
      "Training with ADAM on epoch:  2\n"
     ]
    },
    {
     "name": "stderr",
     "output_type": "stream",
     "text": [
      "100%|██████████| 928/928 [00:17<00:00, 53.47it/s]\n",
      "  1%|          | 6/928 [00:00<00:17, 53.79it/s]"
     ]
    },
    {
     "name": "stdout",
     "output_type": "stream",
     "text": [
      "\n",
      "Train_Loss_ADAM[epoch] 0.31581681966781616\n",
      "Test_Loss_ADAM[epoch] 0.3174133002758026\n",
      "Train_Accuracy_ADAM[epoch] 0.3501920614596671\n",
      "Test_Accuracy_ADAM[epoch] 0.3405889884763124\n",
      "Training with ADAM on epoch:  3\n"
     ]
    },
    {
     "name": "stderr",
     "output_type": "stream",
     "text": [
      "100%|██████████| 928/928 [00:17<00:00, 53.68it/s]\n",
      "  1%|          | 6/928 [00:00<00:17, 53.74it/s]"
     ]
    },
    {
     "name": "stdout",
     "output_type": "stream",
     "text": [
      "\n",
      "Train_Loss_ADAM[epoch] 0.29401320219039917\n",
      "Test_Loss_ADAM[epoch] 0.2935473620891571\n",
      "Train_Accuracy_ADAM[epoch] 0.3847631241997439\n",
      "Test_Accuracy_ADAM[epoch] 0.4001280409731114\n",
      "Training with ADAM on epoch:  4\n"
     ]
    },
    {
     "name": "stderr",
     "output_type": "stream",
     "text": [
      "100%|██████████| 928/928 [00:17<00:00, 52.13it/s]\n",
      "  1%|          | 6/928 [00:00<00:16, 55.03it/s]"
     ]
    },
    {
     "name": "stdout",
     "output_type": "stream",
     "text": [
      "\n",
      "Train_Loss_ADAM[epoch] 0.2828786373138428\n",
      "Test_Loss_ADAM[epoch] 0.2817149758338928\n",
      "Train_Accuracy_ADAM[epoch] 0.37708066581306016\n",
      "Test_Accuracy_ADAM[epoch] 0.3873239436619718\n",
      "Training with ADAM on epoch:  5\n"
     ]
    },
    {
     "name": "stderr",
     "output_type": "stream",
     "text": [
      "100%|██████████| 928/928 [00:17<00:00, 53.01it/s]\n",
      "  1%|          | 6/928 [00:00<00:17, 53.70it/s]"
     ]
    },
    {
     "name": "stdout",
     "output_type": "stream",
     "text": [
      "\n",
      "Train_Loss_ADAM[epoch] 0.29701247811317444\n",
      "Test_Loss_ADAM[epoch] 0.2933199107646942\n",
      "Train_Accuracy_ADAM[epoch] 0.39500640204865556\n",
      "Test_Accuracy_ADAM[epoch] 0.39180537772087065\n",
      "Training with ADAM on epoch:  6\n"
     ]
    },
    {
     "name": "stderr",
     "output_type": "stream",
     "text": [
      "100%|██████████| 928/928 [00:17<00:00, 52.85it/s]\n",
      "  1%|          | 6/928 [00:00<00:16, 54.61it/s]"
     ]
    },
    {
     "name": "stdout",
     "output_type": "stream",
     "text": [
      "\n",
      "Train_Loss_ADAM[epoch] 0.26376762986183167\n",
      "Test_Loss_ADAM[epoch] 0.26360198855400085\n",
      "Train_Accuracy_ADAM[epoch] 0.5006402048655569\n",
      "Test_Accuracy_ADAM[epoch] 0.49615877080665816\n",
      "Training with ADAM on epoch:  7\n"
     ]
    },
    {
     "name": "stderr",
     "output_type": "stream",
     "text": [
      "100%|██████████| 928/928 [00:17<00:00, 53.04it/s]\n",
      "  1%|          | 6/928 [00:00<00:16, 54.77it/s]"
     ]
    },
    {
     "name": "stdout",
     "output_type": "stream",
     "text": [
      "\n",
      "Train_Loss_ADAM[epoch] 0.25157204270362854\n",
      "Test_Loss_ADAM[epoch] 0.2509915232658386\n",
      "Train_Accuracy_ADAM[epoch] 0.5633802816901409\n",
      "Test_Accuracy_ADAM[epoch] 0.5761843790012804\n",
      "Training with ADAM on epoch:  8\n"
     ]
    },
    {
     "name": "stderr",
     "output_type": "stream",
     "text": [
      "100%|██████████| 928/928 [00:17<00:00, 52.73it/s]\n"
     ]
    },
    {
     "name": "stdout",
     "output_type": "stream",
     "text": [
      "\n",
      "Train_Loss_ADAM[epoch] 0.24279478192329407\n",
      "Test_Loss_ADAM[epoch] 0.2434692084789276\n",
      "Train_Accuracy_ADAM[epoch] 0.5793854033290653\n",
      "Test_Accuracy_ADAM[epoch] 0.5915492957746479\n",
      "\n",
      "Finished Training\n",
      "Total Time 150.92114305496216\n",
      "\n",
      "----------------------------------------------------\n",
      "\n",
      "\n",
      "1\n",
      "Now running test number:  1\n",
      "----------------------------------------------------\n"
     ]
    },
    {
     "name": "stderr",
     "output_type": "stream",
     "text": [
      "\r",
      "  0%|          | 0/232 [00:00<?, ?it/s]"
     ]
    },
    {
     "name": "stdout",
     "output_type": "stream",
     "text": [
      "Training with ATM on epoch:  1\n"
     ]
    },
    {
     "name": "stderr",
     "output_type": "stream",
     "text": [
      "100%|██████████| 232/232 [02:45<00:00,  1.40it/s]\n",
      "  0%|          | 0/232 [00:00<?, ?it/s]"
     ]
    },
    {
     "name": "stdout",
     "output_type": "stream",
     "text": [
      "\n",
      "Train_Loss_ATM[epoch] 0.3118416965007782\n",
      "Test_Loss_ATM[epoch] 0.3160500228404999\n",
      "Train_Accuracy_ATM[epoch] 0.4174135723431498\n",
      "Test_Accuracy_ATM[epoch] 0.39820742637644047\n",
      "Training with ATM on epoch:  2\n"
     ]
    },
    {
     "name": "stderr",
     "output_type": "stream",
     "text": [
      "100%|██████████| 232/232 [02:44<00:00,  1.41it/s]\n",
      "  0%|          | 0/232 [00:00<?, ?it/s]"
     ]
    },
    {
     "name": "stdout",
     "output_type": "stream",
     "text": [
      "\n",
      "Train_Loss_ATM[epoch] 0.25045156478881836\n",
      "Test_Loss_ATM[epoch] 0.2611784040927887\n",
      "Train_Accuracy_ATM[epoch] 0.6120358514724712\n",
      "Test_Accuracy_ATM[epoch] 0.5793854033290653\n",
      "Training with ATM on epoch:  3\n"
     ]
    },
    {
     "name": "stderr",
     "output_type": "stream",
     "text": [
      "100%|██████████| 232/232 [02:45<00:00,  1.40it/s]\n",
      "  0%|          | 0/232 [00:00<?, ?it/s]"
     ]
    },
    {
     "name": "stdout",
     "output_type": "stream",
     "text": [
      "\n",
      "Train_Loss_ATM[epoch] 0.20622371137142181\n",
      "Test_Loss_ATM[epoch] 0.216778963804245\n",
      "Train_Accuracy_ATM[epoch] 0.7202304737516005\n",
      "Test_Accuracy_ATM[epoch] 0.7163892445582587\n",
      "Training with ATM on epoch:  4\n"
     ]
    },
    {
     "name": "stderr",
     "output_type": "stream",
     "text": [
      "100%|██████████| 232/232 [02:45<00:00,  1.41it/s]\n",
      "  0%|          | 0/232 [00:00<?, ?it/s]"
     ]
    },
    {
     "name": "stdout",
     "output_type": "stream",
     "text": [
      "\n",
      "Train_Loss_ATM[epoch] 0.17920228838920593\n",
      "Test_Loss_ATM[epoch] 0.18890701234340668\n",
      "Train_Accuracy_ATM[epoch] 0.7573623559539052\n",
      "Test_Accuracy_ATM[epoch] 0.7573623559539052\n",
      "Training with ATM on epoch:  5\n"
     ]
    },
    {
     "name": "stderr",
     "output_type": "stream",
     "text": [
      "100%|██████████| 232/232 [02:44<00:00,  1.41it/s]\n",
      "  0%|          | 0/232 [00:00<?, ?it/s]"
     ]
    },
    {
     "name": "stdout",
     "output_type": "stream",
     "text": [
      "\n",
      "Train_Loss_ATM[epoch] 0.17275045812129974\n",
      "Test_Loss_ATM[epoch] 0.18535247445106506\n",
      "Train_Accuracy_ATM[epoch] 0.7746478873239436\n",
      "Test_Accuracy_ATM[epoch] 0.7612035851472471\n",
      "Training with ATM on epoch:  6\n"
     ]
    },
    {
     "name": "stderr",
     "output_type": "stream",
     "text": [
      "100%|██████████| 232/232 [02:44<00:00,  1.40it/s]\n",
      "  0%|          | 0/232 [00:00<?, ?it/s]"
     ]
    },
    {
     "name": "stdout",
     "output_type": "stream",
     "text": [
      "\n",
      "Train_Loss_ATM[epoch] 0.18047772347927094\n",
      "Test_Loss_ATM[epoch] 0.18923935294151306\n",
      "Train_Accuracy_ATM[epoch] 0.7599231754161332\n",
      "Test_Accuracy_ATM[epoch] 0.7522407170294494\n",
      "Training with ATM on epoch:  7\n"
     ]
    },
    {
     "name": "stderr",
     "output_type": "stream",
     "text": [
      "100%|██████████| 232/232 [02:44<00:00,  1.40it/s]\n",
      "  0%|          | 0/232 [00:00<?, ?it/s]"
     ]
    },
    {
     "name": "stdout",
     "output_type": "stream",
     "text": [
      "\n",
      "Train_Loss_ATM[epoch] 0.1823282241821289\n",
      "Test_Loss_ATM[epoch] 0.19827766716480255\n",
      "Train_Accuracy_ATM[epoch] 0.7445582586427657\n",
      "Test_Accuracy_ATM[epoch] 0.7208706786171575\n",
      "Training with ATM on epoch:  8\n"
     ]
    },
    {
     "name": "stderr",
     "output_type": "stream",
     "text": [
      "100%|██████████| 232/232 [02:44<00:00,  1.41it/s]\n"
     ]
    },
    {
     "name": "stdout",
     "output_type": "stream",
     "text": [
      "\n",
      "Train_Loss_ATM[epoch] 0.17364537715911865\n",
      "Test_Loss_ATM[epoch] 0.18021422624588013\n",
      "Train_Accuracy_ATM[epoch] 0.7612035851472471\n",
      "Test_Accuracy_ATM[epoch] 0.7535211267605634\n",
      "\n",
      "Finished Training\n",
      "Total Time 1329.8559532165527\n",
      "Total Time if we had perfect paralelization 20.778999269008636\n",
      "\n"
     ]
    },
    {
     "name": "stderr",
     "output_type": "stream",
     "text": [
      "  1%|          | 6/928 [00:00<00:17, 54.23it/s]"
     ]
    },
    {
     "name": "stdout",
     "output_type": "stream",
     "text": [
      "Training with ADAM on epoch:  1\n"
     ]
    },
    {
     "name": "stderr",
     "output_type": "stream",
     "text": [
      "100%|██████████| 928/928 [00:17<00:00, 52.90it/s]\n",
      "  1%|          | 6/928 [00:00<00:16, 54.64it/s]"
     ]
    },
    {
     "name": "stdout",
     "output_type": "stream",
     "text": [
      "\n",
      "Train_Loss_ADAM[epoch] 0.3020747900009155\n",
      "Test_Loss_ADAM[epoch] 0.2931237816810608\n",
      "Train_Accuracy_ADAM[epoch] 0.35979513444302175\n",
      "Test_Accuracy_ADAM[epoch] 0.37708066581306016\n",
      "Training with ADAM on epoch:  2\n"
     ]
    },
    {
     "name": "stderr",
     "output_type": "stream",
     "text": [
      "100%|██████████| 928/928 [00:17<00:00, 53.08it/s]\n",
      "  1%|          | 6/928 [00:00<00:16, 54.96it/s]"
     ]
    },
    {
     "name": "stdout",
     "output_type": "stream",
     "text": [
      "\n",
      "Train_Loss_ADAM[epoch] 0.24469958245754242\n",
      "Test_Loss_ADAM[epoch] 0.23422522842884064\n",
      "Train_Accuracy_ADAM[epoch] 0.6754161331626121\n",
      "Test_Accuracy_ADAM[epoch] 0.6875800256081946\n",
      "Training with ADAM on epoch:  3\n"
     ]
    },
    {
     "name": "stderr",
     "output_type": "stream",
     "text": [
      "100%|██████████| 928/928 [00:17<00:00, 52.79it/s]\n",
      "  1%|          | 6/928 [00:00<00:17, 54.03it/s]"
     ]
    },
    {
     "name": "stdout",
     "output_type": "stream",
     "text": [
      "\n",
      "Train_Loss_ADAM[epoch] 0.22976046800613403\n",
      "Test_Loss_ADAM[epoch] 0.22220578789710999\n",
      "Train_Accuracy_ADAM[epoch] 0.6946222791293214\n",
      "Test_Accuracy_ADAM[epoch] 0.706786171574904\n",
      "Training with ADAM on epoch:  4\n"
     ]
    },
    {
     "name": "stderr",
     "output_type": "stream",
     "text": [
      "100%|██████████| 928/928 [00:17<00:00, 52.69it/s]\n",
      "  1%|          | 6/928 [00:00<00:16, 55.93it/s]"
     ]
    },
    {
     "name": "stdout",
     "output_type": "stream",
     "text": [
      "\n",
      "Train_Loss_ADAM[epoch] 0.21904954314231873\n",
      "Test_Loss_ADAM[epoch] 0.2129357010126114\n",
      "Train_Accuracy_ADAM[epoch] 0.7381562099871959\n",
      "Test_Accuracy_ADAM[epoch] 0.7445582586427657\n",
      "Training with ADAM on epoch:  5\n"
     ]
    },
    {
     "name": "stderr",
     "output_type": "stream",
     "text": [
      "100%|██████████| 928/928 [00:17<00:00, 53.01it/s]\n",
      "  1%|          | 6/928 [00:00<00:16, 54.44it/s]"
     ]
    },
    {
     "name": "stdout",
     "output_type": "stream",
     "text": [
      "\n",
      "Train_Loss_ADAM[epoch] 0.2023022621870041\n",
      "Test_Loss_ADAM[epoch] 0.19275374710559845\n",
      "Train_Accuracy_ADAM[epoch] 0.765044814340589\n",
      "Test_Accuracy_ADAM[epoch] 0.7727272727272727\n",
      "Training with ADAM on epoch:  6\n"
     ]
    },
    {
     "name": "stderr",
     "output_type": "stream",
     "text": [
      "100%|██████████| 928/928 [00:17<00:00, 53.64it/s]\n",
      "  1%|          | 6/928 [00:00<00:16, 54.48it/s]"
     ]
    },
    {
     "name": "stdout",
     "output_type": "stream",
     "text": [
      "\n",
      "Train_Loss_ADAM[epoch] 0.1787147969007492\n",
      "Test_Loss_ADAM[epoch] 0.17448696494102478\n",
      "Train_Accuracy_ADAM[epoch] 0.7976952624839949\n",
      "Test_Accuracy_ADAM[epoch] 0.8085787451984635\n",
      "Training with ADAM on epoch:  7\n"
     ]
    },
    {
     "name": "stderr",
     "output_type": "stream",
     "text": [
      "100%|██████████| 928/928 [00:17<00:00, 52.86it/s]\n",
      "  1%|          | 6/928 [00:00<00:17, 54.09it/s]"
     ]
    },
    {
     "name": "stdout",
     "output_type": "stream",
     "text": [
      "\n",
      "Train_Loss_ADAM[epoch] 0.1732373982667923\n",
      "Test_Loss_ADAM[epoch] 0.16914160549640656\n",
      "Train_Accuracy_ADAM[epoch] 0.822663252240717\n",
      "Test_Accuracy_ADAM[epoch] 0.8316261203585147\n",
      "Training with ADAM on epoch:  8\n"
     ]
    },
    {
     "name": "stderr",
     "output_type": "stream",
     "text": [
      "100%|██████████| 928/928 [00:17<00:00, 53.36it/s]\n"
     ]
    },
    {
     "name": "stdout",
     "output_type": "stream",
     "text": [
      "\n",
      "Train_Loss_ADAM[epoch] 0.16636009514331818\n",
      "Test_Loss_ADAM[epoch] 0.15820014476776123\n",
      "Train_Accuracy_ADAM[epoch] 0.8316261203585147\n",
      "Test_Accuracy_ADAM[epoch] 0.8348271446862996\n",
      "\n",
      "Finished Training\n",
      "Total Time 150.5105230808258\n",
      "\n",
      "----------------------------------------------------\n",
      "\n",
      "\n",
      "2\n",
      "Now running test number:  2\n",
      "----------------------------------------------------\n"
     ]
    },
    {
     "name": "stderr",
     "output_type": "stream",
     "text": [
      "\r",
      "  0%|          | 0/232 [00:00<?, ?it/s]"
     ]
    },
    {
     "name": "stdout",
     "output_type": "stream",
     "text": [
      "Training with ATM on epoch:  1\n"
     ]
    },
    {
     "name": "stderr",
     "output_type": "stream",
     "text": [
      "100%|██████████| 232/232 [02:44<00:00,  1.42it/s]\n",
      "  0%|          | 0/232 [00:00<?, ?it/s]"
     ]
    },
    {
     "name": "stdout",
     "output_type": "stream",
     "text": [
      "\n",
      "Train_Loss_ATM[epoch] 0.309293657541275\n",
      "Test_Loss_ATM[epoch] 0.3270661532878876\n",
      "Train_Accuracy_ATM[epoch] 0.3892445582586428\n",
      "Test_Accuracy_ATM[epoch] 0.3687580025608195\n",
      "Training with ATM on epoch:  2\n"
     ]
    },
    {
     "name": "stderr",
     "output_type": "stream",
     "text": [
      "100%|██████████| 232/232 [02:44<00:00,  1.42it/s]\n",
      "  0%|          | 0/232 [00:00<?, ?it/s]"
     ]
    },
    {
     "name": "stdout",
     "output_type": "stream",
     "text": [
      "\n",
      "Train_Loss_ATM[epoch] 0.27246710658073425\n",
      "Test_Loss_ATM[epoch] 0.2918246388435364\n",
      "Train_Accuracy_ATM[epoch] 0.529449423815621\n",
      "Test_Accuracy_ATM[epoch] 0.47247119078104993\n",
      "Training with ATM on epoch:  3\n"
     ]
    },
    {
     "name": "stderr",
     "output_type": "stream",
     "text": [
      "100%|██████████| 232/232 [02:44<00:00,  1.41it/s]\n",
      "  0%|          | 0/232 [00:00<?, ?it/s]"
     ]
    },
    {
     "name": "stdout",
     "output_type": "stream",
     "text": [
      "\n",
      "Train_Loss_ATM[epoch] 0.21841786801815033\n",
      "Test_Loss_ATM[epoch] 0.2393241822719574\n",
      "Train_Accuracy_ATM[epoch] 0.7240717029449424\n",
      "Test_Accuracy_ATM[epoch] 0.7106274007682458\n",
      "Training with ATM on epoch:  4\n"
     ]
    },
    {
     "name": "stderr",
     "output_type": "stream",
     "text": [
      "100%|██████████| 232/232 [02:43<00:00,  1.41it/s]\n",
      "  0%|          | 0/232 [00:00<?, ?it/s]"
     ]
    },
    {
     "name": "stdout",
     "output_type": "stream",
     "text": [
      "\n",
      "Train_Loss_ATM[epoch] 0.17330417037010193\n",
      "Test_Loss_ATM[epoch] 0.18681438267230988\n",
      "Train_Accuracy_ATM[epoch] 0.7996158770806658\n",
      "Test_Accuracy_ATM[epoch] 0.7855313700384123\n",
      "Training with ATM on epoch:  5\n"
     ]
    },
    {
     "name": "stderr",
     "output_type": "stream",
     "text": [
      "100%|██████████| 232/232 [02:46<00:00,  1.40it/s]\n",
      "  0%|          | 0/232 [00:00<?, ?it/s]"
     ]
    },
    {
     "name": "stdout",
     "output_type": "stream",
     "text": [
      "\n",
      "Train_Loss_ATM[epoch] 0.15129002928733826\n",
      "Test_Loss_ATM[epoch] 0.15654189884662628\n",
      "Train_Accuracy_ATM[epoch] 0.7880921895006402\n",
      "Test_Accuracy_ATM[epoch] 0.793213828425096\n",
      "Training with ATM on epoch:  6\n"
     ]
    },
    {
     "name": "stderr",
     "output_type": "stream",
     "text": [
      "100%|██████████| 232/232 [02:45<00:00,  1.41it/s]\n",
      "  0%|          | 0/232 [00:00<?, ?it/s]"
     ]
    },
    {
     "name": "stdout",
     "output_type": "stream",
     "text": [
      "\n",
      "Train_Loss_ATM[epoch] 0.13382552564144135\n",
      "Test_Loss_ATM[epoch] 0.13689374923706055\n",
      "Train_Accuracy_ATM[epoch] 0.8354673495518566\n",
      "Test_Accuracy_ATM[epoch] 0.8284250960307298\n",
      "Training with ATM on epoch:  7\n"
     ]
    },
    {
     "name": "stderr",
     "output_type": "stream",
     "text": [
      "100%|██████████| 232/232 [02:45<00:00,  1.41it/s]\n",
      "  0%|          | 0/232 [00:00<?, ?it/s]"
     ]
    },
    {
     "name": "stdout",
     "output_type": "stream",
     "text": [
      "\n",
      "Train_Loss_ATM[epoch] 0.1322191208600998\n",
      "Test_Loss_ATM[epoch] 0.13894487917423248\n",
      "Train_Accuracy_ATM[epoch] 0.8380281690140845\n",
      "Test_Accuracy_ATM[epoch] 0.8303457106274008\n",
      "Training with ATM on epoch:  8\n"
     ]
    },
    {
     "name": "stderr",
     "output_type": "stream",
     "text": [
      "100%|██████████| 232/232 [02:45<00:00,  1.40it/s]\n"
     ]
    },
    {
     "name": "stdout",
     "output_type": "stream",
     "text": [
      "\n",
      "Train_Loss_ATM[epoch] 0.14095856249332428\n",
      "Test_Loss_ATM[epoch] 0.13931916654109955\n",
      "Train_Accuracy_ATM[epoch] 0.8162612035851472\n",
      "Test_Accuracy_ATM[epoch] 0.8309859154929577\n",
      "\n",
      "Finished Training\n",
      "Total Time 1332.7363431453705\n",
      "Total Time if we had perfect paralelization 20.824005361646414\n",
      "\n"
     ]
    },
    {
     "name": "stderr",
     "output_type": "stream",
     "text": [
      "  1%|          | 6/928 [00:00<00:17, 52.90it/s]"
     ]
    },
    {
     "name": "stdout",
     "output_type": "stream",
     "text": [
      "Training with ADAM on epoch:  1\n"
     ]
    },
    {
     "name": "stderr",
     "output_type": "stream",
     "text": [
      "100%|██████████| 928/928 [00:17<00:00, 52.58it/s]\n",
      "  1%|          | 6/928 [00:00<00:16, 54.46it/s]"
     ]
    },
    {
     "name": "stdout",
     "output_type": "stream",
     "text": [
      "\n",
      "Train_Loss_ADAM[epoch] 0.3602086305618286\n",
      "Test_Loss_ADAM[epoch] 0.3625642955303192\n",
      "Train_Accuracy_ADAM[epoch] 0.4033290653008963\n",
      "Test_Accuracy_ADAM[epoch] 0.3866837387964149\n",
      "Training with ADAM on epoch:  2\n"
     ]
    },
    {
     "name": "stderr",
     "output_type": "stream",
     "text": [
      "100%|██████████| 928/928 [00:17<00:00, 52.89it/s]\n",
      "  1%|          | 6/928 [00:00<00:16, 54.88it/s]"
     ]
    },
    {
     "name": "stdout",
     "output_type": "stream",
     "text": [
      "\n",
      "Train_Loss_ADAM[epoch] 0.2925807237625122\n",
      "Test_Loss_ADAM[epoch] 0.2915066182613373\n",
      "Train_Accuracy_ADAM[epoch] 0.6030729833546735\n",
      "Test_Accuracy_ADAM[epoch] 0.6113956466069143\n",
      "Training with ADAM on epoch:  3\n"
     ]
    },
    {
     "name": "stderr",
     "output_type": "stream",
     "text": [
      "100%|██████████| 928/928 [00:17<00:00, 52.72it/s]\n",
      "  1%|          | 6/928 [00:00<00:16, 54.72it/s]"
     ]
    },
    {
     "name": "stdout",
     "output_type": "stream",
     "text": [
      "\n",
      "Train_Loss_ADAM[epoch] 0.26726478338241577\n",
      "Test_Loss_ADAM[epoch] 0.2680746614933014\n",
      "Train_Accuracy_ADAM[epoch] 0.6267605633802817\n",
      "Test_Accuracy_ADAM[epoch] 0.6382842509603073\n",
      "Training with ADAM on epoch:  4\n"
     ]
    },
    {
     "name": "stderr",
     "output_type": "stream",
     "text": [
      "100%|██████████| 928/928 [00:17<00:00, 53.52it/s]\n",
      "  1%|          | 6/928 [00:00<00:17, 53.84it/s]"
     ]
    },
    {
     "name": "stdout",
     "output_type": "stream",
     "text": [
      "\n",
      "Train_Loss_ADAM[epoch] 0.2327999770641327\n",
      "Test_Loss_ADAM[epoch] 0.2330407202243805\n",
      "Train_Accuracy_ADAM[epoch] 0.6882202304737516\n",
      "Test_Accuracy_ADAM[epoch] 0.6907810499359796\n",
      "Training with ADAM on epoch:  5\n"
     ]
    },
    {
     "name": "stderr",
     "output_type": "stream",
     "text": [
      "100%|██████████| 928/928 [00:17<00:00, 53.95it/s]\n",
      "  1%|          | 6/928 [00:00<00:16, 56.28it/s]"
     ]
    },
    {
     "name": "stdout",
     "output_type": "stream",
     "text": [
      "\n",
      "Train_Loss_ADAM[epoch] 0.20722056925296783\n",
      "Test_Loss_ADAM[epoch] 0.203117236495018\n",
      "Train_Accuracy_ADAM[epoch] 0.7003841229193342\n",
      "Test_Accuracy_ADAM[epoch] 0.7195902688860435\n",
      "Training with ADAM on epoch:  6\n"
     ]
    },
    {
     "name": "stderr",
     "output_type": "stream",
     "text": [
      "100%|██████████| 928/928 [00:17<00:00, 52.84it/s]\n",
      "  1%|          | 6/928 [00:00<00:16, 54.52it/s]"
     ]
    },
    {
     "name": "stdout",
     "output_type": "stream",
     "text": [
      "\n",
      "Train_Loss_ADAM[epoch] 0.18547563254833221\n",
      "Test_Loss_ADAM[epoch] 0.17645971477031708\n",
      "Train_Accuracy_ADAM[epoch] 0.7778489116517285\n",
      "Test_Accuracy_ADAM[epoch] 0.8015364916773368\n",
      "Training with ADAM on epoch:  7\n"
     ]
    },
    {
     "name": "stderr",
     "output_type": "stream",
     "text": [
      "100%|██████████| 928/928 [00:17<00:00, 52.54it/s]\n",
      "  1%|          | 5/928 [00:00<00:19, 46.48it/s]"
     ]
    },
    {
     "name": "stdout",
     "output_type": "stream",
     "text": [
      "\n",
      "Train_Loss_ADAM[epoch] 0.18448957800865173\n",
      "Test_Loss_ADAM[epoch] 0.17358112335205078\n",
      "Train_Accuracy_ADAM[epoch] 0.7765685019206146\n",
      "Test_Accuracy_ADAM[epoch] 0.7976952624839949\n",
      "Training with ADAM on epoch:  8\n"
     ]
    },
    {
     "name": "stderr",
     "output_type": "stream",
     "text": [
      "100%|██████████| 928/928 [00:17<00:00, 53.03it/s]\n"
     ]
    },
    {
     "name": "stdout",
     "output_type": "stream",
     "text": [
      "\n",
      "Train_Loss_ADAM[epoch] 0.18000604212284088\n",
      "Test_Loss_ADAM[epoch] 0.16929017007350922\n",
      "Train_Accuracy_ADAM[epoch] 0.7887323943661971\n",
      "Test_Accuracy_ADAM[epoch] 0.8053777208706786\n",
      "\n",
      "Finished Training\n",
      "Total Time 150.74692916870117\n",
      "\n",
      "----------------------------------------------------\n",
      "\n",
      "\n"
     ]
    }
   ],
   "source": [
    "Number_Of_Tests = 3\n",
    "Number_Of_Epochs_In_Each_Test = 8\n",
    "\n",
    "\n",
    "##Algortihm to compare with\n",
    "Gradient_Algorithm_Name = 'ADAM'\n",
    "# Gradient_Algorithm_Name = 'SGD'\n",
    "\n",
    "Weight_Decay = 10**(-8)/Total_Number_Of_Parameters\n",
    "Weight_Decay = 0\n",
    "print(\"weight decay\",Weight_Decay )\n",
    "Parameter_Space_Shirnkage_Factor = 0.001\n",
    "Threshold_For_Elimination = 0\n",
    "\n",
    "\n",
    "Loss_Array_From_ATM,Time_Vector_From_ATM = 0,0\n",
    "Loss_Array_From_SGD,Time_Vector_From_SGD = 0,0\n",
    "\n",
    "\n",
    "Train_Loss_ATM, Test_Loss_ATM, Train_Accuracy_ATM, Test_Accuracy_ATM = 0,0,0,0\n",
    "Train_Loss_SGD, Test_Loss_SGD, Train_Accuracy_SGD, Test_Accuracy_SGD = 0,0,0,0\n",
    "      \n",
    "      \n",
    "      \n",
    "Print_Cost = 0\n",
    "\n",
    "ATM_Optimized_Model_Parameters = []\n",
    "SGD_Optimized_Model = []\n",
    "\n",
    "for test in range(Number_Of_Tests):\n",
    "#     Initial_Parameter_Vector = 0.01*np.random.randn(Total_Number_Of_Parameters) \n",
    "    \n",
    "    Initial_Parameter_Vector = 0.1*np.random.randn(Total_Number_Of_Parameters) \n",
    "    \n",
    "    \n",
    "    print(test)\n",
    "    print(\"Now running test number: \", test)\n",
    "    print(\"----------------------------------------------------\")\n",
    "    Loss_Array_From_ATM,Time_Vector_From_ATM,Best_Parameters, Train_Loss_ATM, Test_Loss_ATM, Train_Accuracy_ATM, Test_Accuracy_ATM = Run_Optimization_Test_On_ATM(Initial_Parameter_Vector,Number_Of_Tests,Number_Of_Epochs_In_Each_Test,Loss_Array_From_ATM,Time_Vector_From_ATM,Train_Loss_ATM, Test_Loss_ATM, Train_Accuracy_ATM, Test_Accuracy_ATM)\n",
    "    ATM_Optimized_Model_Parameters.append(Best_Parameters)\n",
    "    \n",
    "    Loss_Array_From_SGD,Time_Vector_From_SGD,model, Train_Loss_SGD, Test_Loss_SGD, Train_Accuracy_SGD, Test_Accuracy_SGD= Run_Optimization_Test_On_SGD(model,Initial_Parameter_Vector,Number_Of_Tests,Number_Of_Epochs_In_Each_Test,Loss_Array_From_SGD,Time_Vector_From_SGD,Train_Loss_SGD, Test_Loss_SGD, Train_Accuracy_SGD, Test_Accuracy_SGD,test)\n",
    "    SGD_Optimized_Model.append(model)\n",
    "    \n",
    "    print(\"----------------------------------------------------\")\n",
    "    print()\n",
    "    print()"
   ]
  },
  {
   "cell_type": "code",
   "execution_count": 0,
   "metadata": {
    "colab": {},
    "colab_type": "code",
    "id": "Bi_4k-sU24jf"
   },
   "outputs": [],
   "source": [
    "### Managed to reach 75% accuracy \n",
    "## Los of 0.18\n",
    "## After 5 epochs\n",
    "\n",
    "\n",
    "# Parameter_Vector = Best_Parameters*Parameter_Space_Shirnkage_Factor\n",
    "\n",
    "# ## This sets all parameters to zero if they are below a certain threshold\n",
    "# Parameter_Vector  = Parameter_Vector *(np.abs(Parameter_Vector ) > Threshold_For_Elimination)\n",
    "\n",
    "\n",
    "# plt.hist(Best_Parameters)\n",
    "# print(Best_Parameters*Parameter_Space_Shirnkage_Factor)"
   ]
  },
  {
   "cell_type": "code",
   "execution_count": 0,
   "metadata": {
    "colab": {},
    "colab_type": "code",
    "id": "xvSY-0vqwqlG"
   },
   "outputs": [],
   "source": [
    "\n",
    "\n",
    "def Create_SubEpoch_Convergance_Plot_For_Both_Versions(Cost_Array_Contatining_All_Tests1,Cost_Array_Contatining_All_Tests2,Title):\n",
    "    fig = plt.figure(figsize=(10,10))\n",
    "    \n",
    "    Epoch_Number_SGD = Number_Of_Epochs_In_Each_Test*(np.arange(len(Cost_Array_Contatining_All_Tests1[:,0]))+1)/len(Cost_Array_Contatining_All_Tests1[:,0])\n",
    "    Epoch_Number_ATM = Number_Of_Epochs_In_Each_Test*(np.arange(len(Cost_Array_Contatining_All_Tests2[:,0]))+1)/len(Cost_Array_Contatining_All_Tests2[:,0])\n",
    "    \n",
    "    \n",
    "\n",
    "    #### This is to plot the Reference Version\n",
    "    for i in range(Number_Of_Initializations):\n",
    "        if np.min(Cost_Array_Contatining_All_Tests1[:,i]) <0:\n",
    "            Cost_Array_Contatining_All_Tests1[:,i] = Cost_Array_Contatining_All_Tests1[:,i] - np.min(Cost_Array_Contatining_All_Tests1[:,i]) + 10**-8\n",
    "\n",
    "    for i in range(Number_Of_Initializations):\n",
    "\n",
    "        plt.plot(Epoch_Number_SGD,Cost_Array_Contatining_All_Tests1[:,i],linewidth = 1,color='gray')\n",
    "#         plt.title(\"Convergence_Plot, New Version: \" + Title )\n",
    "\n",
    "    Mean_Of_Log_Plots = np.mean(Cost_Array_Contatining_All_Tests1,1)\n",
    "    Reference_Version_Plot, = plt.plot(Epoch_Number_SGD,Mean_Of_Log_Plots,linewidth = 2,color='black',label=Gradient_Algorithm_Name+' - mean')\n",
    "    \n",
    "    \n",
    "    \n",
    "    #### This is to plot the New Version\n",
    "    for i in range(Number_Of_Initializations):\n",
    "        if np.min(Cost_Array_Contatining_All_Tests2[:,i]) <0:\n",
    "            Cost_Array_Contatining_All_Tests2[:,i] = Cost_Array_Contatining_All_Tests2[:,i] - np.min(Cost_Array_Contatining_All_Tests2[:,i]) + 10**-8\n",
    "\n",
    "    for i in range(Number_Of_Initializations):\n",
    "\n",
    "        plt.plot(Epoch_Number_ATM,Cost_Array_Contatining_All_Tests2[:,i],linewidth = 1,color='cyan')\n",
    "        \n",
    "\n",
    "\n",
    "    Mean_Of_Log_Plots = np.mean(Cost_Array_Contatining_All_Tests2,1)\n",
    "    New_Version_Plot, = plt.plot(Epoch_Number_ATM,Mean_Of_Log_Plots,linewidth = 2,color='blue',label=Gradient_Algorithm_Name+' - Mean')    \n",
    "    \n",
    "    Full_Title = \"Convergence_Plot, New Version: \" + Title + \", \" + str(Number_Of_Initializations) +  \" Initializations\" \n",
    "    plt.title(Full_Title) \n",
    "    plt.ylabel(\"Cost Function\")\n",
    "    plt.xlabel(\"Number Of Epochs\")\n",
    "    plt.legend(handles = [Reference_Version_Plot, New_Version_Plot])\n",
    "    plt.show()\n"
   ]
  },
  {
   "cell_type": "code",
   "execution_count": 0,
   "metadata": {
    "colab": {},
    "colab_type": "code",
    "id": "TS48SvIfhG89"
   },
   "outputs": [],
   "source": [
    "\n",
    "def Create_Test_And_Train_Loss_Plots_For_Both_Versions(Test_Cost_Array_Contatining_All_Tests1,\\\n",
    "                                                       Train_Cost_Array_Contatining_All_Tests1,\\\n",
    "                                                       Test_Cost_Array_Contatining_All_Tests2,\\\n",
    "                                                       Train_Cost_Array_Contatining_All_Tests2,\\\n",
    "                                                       Title):   \n",
    "    fig = plt.figure(figsize=(10,10))\n",
    "    \n",
    "\n",
    "    Epoch_Number_SGD = np.arange(Number_Of_Epochs_In_Each_Test+1)\n",
    "    Epoch_Number_ATM = np.arange(Number_Of_Epochs_In_Each_Test+1)\n",
    "    \n",
    "\n",
    "    #### This is to plot the Test Cost array of the first input \n",
    "    Cost_Array_Contatining_All_Tests1 = Test_Cost_Array_Contatining_All_Tests1\n",
    "    for i in range(Number_Of_Initializations):\n",
    "        if np.min(Cost_Array_Contatining_All_Tests1[:,i]) <0:\n",
    "            Cost_Array_Contatining_All_Tests1[:,i] = Cost_Array_Contatining_All_Tests1[:,i] - np.min(Cost_Array_Contatining_All_Tests1[:,i]) + 10**-8\n",
    "\n",
    "    for i in range(Number_Of_Initializations):\n",
    "\n",
    "        plt.plot(Epoch_Number_SGD,Cost_Array_Contatining_All_Tests1[:,i],linewidth = 1,color='gray')\n",
    "\n",
    "    Mean_Of_Log_Plots = np.mean(Cost_Array_Contatining_All_Tests1,1)\n",
    "    SGD_Test_Plot, = plt.plot(Epoch_Number_SGD,Mean_Of_Log_Plots,linewidth = 2,color='black',label=Gradient_Algorithm_Name+' Test - mean')\n",
    "    \n",
    "    \n",
    "    \n",
    "    #### This is to plot the Train Cost array of the first input \n",
    "    Cost_Array_Contatining_All_Tests1 = Train_Cost_Array_Contatining_All_Tests1\n",
    "    for i in range(Number_Of_Initializations):\n",
    "        if np.min(Cost_Array_Contatining_All_Tests1[:,i]) <0:\n",
    "            Cost_Array_Contatining_All_Tests1[:,i] = Cost_Array_Contatining_All_Tests1[:,i] - np.min(Cost_Array_Contatining_All_Tests1[:,i]) + 10**-8\n",
    "\n",
    "    for i in range(Number_Of_Initializations):\n",
    "\n",
    "        plt.plot(Epoch_Number_SGD,Cost_Array_Contatining_All_Tests1[:,i],linewidth = 1,color='gray',linestyle=':')\n",
    "\n",
    "    Mean_Of_Log_Plots = np.mean(Cost_Array_Contatining_All_Tests1,1)\n",
    "    SGD_Train_Plot, = plt.plot(Epoch_Number_SGD,Mean_Of_Log_Plots,linewidth = 2,color='black',linestyle=':',label=Gradient_Algorithm_Name+' Train- mean')\n",
    "    \n",
    "    \n",
    "    \n",
    "    \n",
    "    #### This is to plot the Test Cost array of the second input \n",
    "    Cost_Array_Contatining_All_Tests2 = Test_Cost_Array_Contatining_All_Tests2\n",
    "    for i in range(Number_Of_Initializations):\n",
    "        if np.min(Cost_Array_Contatining_All_Tests2[:,i]) <0:\n",
    "            Cost_Array_Contatining_All_Tests2[:,i] = Cost_Array_Contatining_All_Tests2[:,i] - np.min(Cost_Array_Contatining_All_Tests2[:,i]) + 10**-8\n",
    "\n",
    "    for i in range(Number_Of_Initializations):\n",
    "\n",
    "        plt.plot(Epoch_Number_ATM,Cost_Array_Contatining_All_Tests2[:,i],linewidth = 1,color='cyan')\n",
    "        \n",
    "    Mean_Of_Log_Plots = np.mean(Cost_Array_Contatining_All_Tests2,1)\n",
    "    ATM_Test_Plot, = plt.plot(Epoch_Number_ATM,Mean_Of_Log_Plots,linewidth = 2,color='blue',label=Gradient_Algorithm_Name+' Test- Mean')    \n",
    "    \n",
    "    \n",
    "    \n",
    "    #### This is to plot the Train Cost array of the second input \n",
    "    Cost_Array_Contatining_All_Tests2 = Train_Cost_Array_Contatining_All_Tests2\n",
    "    for i in range(Number_Of_Initializations):\n",
    "        if np.min(Cost_Array_Contatining_All_Tests2[:,i]) <0:\n",
    "            Cost_Array_Contatining_All_Tests2[:,i] = Cost_Array_Contatining_All_Tests2[:,i] - np.min(Cost_Array_Contatining_All_Tests2[:,i]) + 10**-8\n",
    "\n",
    "    for i in range(Number_Of_Initializations):\n",
    "\n",
    "        plt.plot(Epoch_Number_ATM,Cost_Array_Contatining_All_Tests2[:,i],linewidth = 1,color='cyan',linestyle=':')\n",
    "        \n",
    "    Mean_Of_Log_Plots = np.mean(Cost_Array_Contatining_All_Tests2,1)\n",
    "    ATM_Train_Plot, = plt.plot(Epoch_Number_ATM,Mean_Of_Log_Plots,linewidth = 2,color='blue',linestyle=':',label=Gradient_Algorithm_Name+' Train - Mean')    \n",
    "    \n",
    "    \n",
    "    Full_Title = Title + \", \" + str(Number_Of_Initializations) +  \" Initializations\" \n",
    "    plt.title(Full_Title) \n",
    "    if Accuracy_Plot:\n",
    "      plt.ylabel(\"Accuracy\")\n",
    "    else: plt.ylabel(\"Cost Function\")\n",
    "    plt.xlabel(\"Number Of Epochs\")\n",
    "    plt.legend(handles = [SGD_Test_Plot,SGD_Train_Plot,ATM_Test_Plot,ATM_Train_Plot])\n",
    "    plt.show()\n"
   ]
  },
  {
   "cell_type": "code",
   "execution_count": 18,
   "metadata": {
    "colab": {
     "base_uri": "https://localhost:8080/",
     "height": 1000
    },
    "colab_type": "code",
    "executionInfo": {
     "elapsed": 2495,
     "status": "ok",
     "timestamp": 1561899593268,
     "user": {
      "displayName": "Benjamin Bodner",
      "photoUrl": "",
      "userId": "00792548603420028130"
     },
     "user_tz": -180
    },
    "id": "DfDh883-SR6P",
    "outputId": "60723c73-dfa2-4d69-e5f6-e7ff6f9537f9"
   },
   "outputs": [
    {
     "data": {
      "image/png": "[encoded data removed]",
      "text/plain": [
       "<Figure size 720x720 with 1 Axes>"
      ]
     },
     "metadata": {
      "tags": []
     },
     "output_type": "display_data"
    },
    {
     "data": {
      "image/png": "[encoded data removed]",
      "text/plain": [
       "<Figure size 720x720 with 1 Axes>"
      ]
     },
     "metadata": {
      "tags": []
     },
     "output_type": "display_data"
    },
    {
     "data": {
      "image/png": "[encoded data removed]",
      "text/plain": [
       "<Figure size 720x720 with 1 Axes>"
      ]
     },
     "metadata": {
      "tags": []
     },
     "output_type": "display_data"
    },
    {
     "name": "stdout",
     "output_type": "stream",
     "text": [
      "Created Convergance Plots\n"
     ]
    }
   ],
   "source": [
    "Number_Of_Initializations = Number_Of_Tests\n",
    "\n",
    "Title = \"Comparing \"+Gradient_Algorithm_Name+\" with ATM - with the GMM dataset\"\n",
    "\n",
    "Create_SubEpoch_Convergance_Plot_For_Both_Versions(Loss_Array_From_SGD,Loss_Array_From_ATM,Title)\n",
    "\n",
    "\n",
    "\n",
    "\n",
    "Title = \"Comparing Loss values of \"+Gradient_Algorithm_Name+\" and ATM - on the GMM dataset\"\n",
    "Accuracy_Plot = 0\n",
    "Create_Test_And_Train_Loss_Plots_For_Both_Versions(Test_Loss_SGD,\\\n",
    "                                                       Train_Loss_SGD,\\\n",
    "                                                       Test_Loss_ATM,\\\n",
    "                                                       Train_Loss_ATM,\\\n",
    "                                                       Title)\n",
    "\n",
    "\n",
    "Title = \"Comparing Accuracy of \"+Gradient_Algorithm_Name+\" and ATM - on the GMM dataset\"\n",
    "Accuracy_Plot = 1\n",
    "Create_Test_And_Train_Loss_Plots_For_Both_Versions(Test_Accuracy_SGD,\\\n",
    "                                                       Train_Accuracy_SGD,\\\n",
    "                                                       Test_Accuracy_ATM,\\\n",
    "                                                       Train_Accuracy_ATM,\\\n",
    "                                                       Title)\n",
    "print(\"Created Convergance Plots\")"
   ]
  },
  {
   "cell_type": "code",
   "execution_count": 0,
   "metadata": {
    "colab": {},
    "colab_type": "code",
    "id": "7uP_I28XDSKE"
   },
   "outputs": [],
   "source": []
  }
 ],
 "metadata": {
  "accelerator": "GPU",
  "colab": {
   "collapsed_sections": [],
   "name": "GMM___ATM_vs_SGD_and_ADAM2.ipynb",
   "provenance": [],
   "version": "0.3.2"
  },
  "kernelspec": {
   "display_name": "Python 3",
   "language": "python",
   "name": "python3"
  },
  "language_info": {
   "codemirror_mode": {
    "name": "ipython",
    "version": 3
   },
   "file_extension": ".py",
   "mimetype": "text/x-python",
   "name": "python",
   "nbconvert_exporter": "python",
   "pygments_lexer": "ipython3",
   "version": "3.6.5"
  }
 },
 "nbformat": 4,
 "nbformat_minor": 0
}
