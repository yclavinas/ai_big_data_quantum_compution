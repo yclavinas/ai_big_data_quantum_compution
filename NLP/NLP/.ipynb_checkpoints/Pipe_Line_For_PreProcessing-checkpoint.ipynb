{
 "cells": [
  {
   "cell_type": "code",
   "execution_count": 1,
   "metadata": {},
   "outputs": [],
   "source": [
    "import sys"
   ]
  },
  {
   "cell_type": "code",
   "execution_count": 8,
   "metadata": {},
   "outputs": [
    {
     "name": "stdout",
     "output_type": "stream",
     "text": [
      "Afreen Jamadar Active member of IIIT Committee in Third year  Sangli, Maharashtra - Email me on Indeed: indeed.com/r/Afreen-Jamadar/8baf379b705e37c6  I wish to use my knowledge, skills and conceptual understanding to create excellent team environments and work consistently achieving organization objectives believes in taking initiative and work to excellence in my work.  WORK EXPERIENCE  Active member of IIIT Committee in Third year  Cisco Networking -  Kanpur, Uttar Pradesh  organized by Techkriti IIT Kanpur and Azure Skynet. PERSONALLITY TRAITS: â€¢ Quick learning ability â€¢ hard working  EDUCATION  PG-DAC  CDAC ACTS  2017  Bachelor of Engg in Information Technology  Shivaji University Kolhapur -  Kolhapur, Maharashtra  2016  SKILLS  Database (Less than 1 year), HTML (Less than 1 year), Linux. (Less than 1 year), MICROSOFT ACCESS (Less than 1 year), MICROSOFT WINDOWS (Less than 1 year)  ADDITIONAL INFORMATION  TECHNICAL SKILLS:  â€¢ Programming Languages: C, C++, Java, .net, php. â€¢ Web Designing: HTML, XML â€¢ Operating Systems: Windows [â€¦] Windows Server 2003, Linux. â€¢ Database: MS Access, MS SQL Server 2008, Oracle 10g, MySql.  https://www.indeed.com/r/Afreen-Jamadar/8baf379b705e37c6?isid=rex-download&ikw=download-top&co=IN\n",
      "\n"
     ]
    }
   ],
   "source": [
    "\n",
    "\n",
    "\n",
    "\n",
    "f= open(\"Resumes/0resume.txt\")\n",
    "Resume0 = f.read()\n",
    "print(Resume0)\n",
    "f.close() "
   ]
  },
  {
   "cell_type": "code",
   "execution_count": 85,
   "metadata": {},
   "outputs": [
    {
     "name": "stdout",
     "output_type": "stream",
     "text": [
      "<class 'str'>\n",
      "True\n",
      "Discarded  , from string\n",
      "Discarded  - from string\n",
      "Discarded  : from string\n",
      "Discarded  - from string\n",
      "Discarded  , from string\n",
      "Discarded  - from string\n",
      "Discarded  , from string\n",
      "Discarded  : from string\n",
      "Discarded  â from string\n",
      "Discarded  € from string\n",
      "Discarded  ¢ from string\n",
      "Discarded  â from string\n",
      "Discarded  € from string\n",
      "Discarded  ¢ from string\n",
      "Discarded  - from string\n",
      "Discarded  - from string\n",
      "Discarded  , from string\n",
      "Discarded  ( from string\n",
      "Discarded  ) from string\n",
      "Discarded  , from string\n",
      "Discarded  ( from string\n",
      "Discarded  ) from string\n",
      "Discarded  , from string\n",
      "Discarded  ( from string\n",
      "Discarded  ) from string\n",
      "Discarded  , from string\n",
      "Discarded  ( from string\n",
      "Discarded  ) from string\n",
      "Discarded  , from string\n",
      "Discarded  ( from string\n",
      "Discarded  ) from string\n",
      "Discarded  : from string\n",
      "Discarded  â from string\n",
      "Discarded  € from string\n",
      "Discarded  ¢ from string\n",
      "Discarded  : from string\n",
      "Discarded  , from string\n",
      "Discarded  + from string\n",
      "Discarded  + from string\n",
      "Discarded  , from string\n",
      "Discarded  , from string\n",
      "Discarded  , from string\n",
      "Discarded  â from string\n",
      "Discarded  € from string\n",
      "Discarded  ¢ from string\n",
      "Discarded  : from string\n",
      "Discarded  , from string\n",
      "Discarded  â from string\n",
      "Discarded  € from string\n",
      "Discarded  ¢ from string\n",
      "Discarded  : from string\n",
      "Discarded  [ from string\n",
      "Discarded  â from string\n",
      "Discarded  € from string\n",
      "Discarded  ¦ from string\n",
      "Discarded  ] from string\n",
      "Discarded  , from string\n",
      "Discarded  â from string\n",
      "Discarded  € from string\n",
      "Discarded  ¢ from string\n",
      "Discarded  : from string\n",
      "Discarded  , from string\n",
      "Discarded  , from string\n",
      "Discarded  , from string\n",
      "Discarded  : from string\n",
      "Discarded  - from string\n",
      "Discarded  ? from string\n",
      "Discarded  = from string\n",
      "Discarded  - from string\n",
      "Discarded  & from string\n",
      "Discarded  = from string\n",
      "Discarded  - from string\n",
      "Discarded  & from string\n",
      "Discarded  = from string\n",
      "Discarded  \n",
      " from string\n"
     ]
    }
   ],
   "source": [
    "print(type(Resume0))\n",
    "len(Resume0)\n",
    "\n",
    "List_Of_Allowed_Characters = ['a', 'b', 'c','d','e','f','g','h','i','j','k','l','m','n','o','p','q','r','s','t','u','v','w','x',\n",
    "                             'y','z','A','B','C','D','E','F','G','H','I','J','K','L','M','N','O','P','Q','R','S','T','U',\n",
    "                             'V','W','X','Y','Z','0','1','2','3','4','5','6','7','8','9','/','\\\\','.',' ']\n",
    "\n",
    "print('a' in List_Of_Allowed_Characters)\n",
    "\n",
    "\n",
    "Resume0_No_Bad_Characters = []\n",
    "for i in range(len(Resume0)):\n",
    "    if Resume0[i] in List_Of_Allowed_Characters:\n",
    "        Resume0_No_Bad_Characters.append(Resume0[i])\n",
    "    else: print(\"Discarded \", Resume0[i], \"from string\")"
   ]
  },
  {
   "cell_type": "code",
   "execution_count": 86,
   "metadata": {},
   "outputs": [
    {
     "name": "stdout",
     "output_type": "stream",
     "text": [
      "Afreen Jamadar Active member of IIIT Committee in Third year  Sangli Maharashtra  Email me on Indeed indeed.com/r/AfreenJamadar/8baf379b705e37c6  I wish to use my knowledge skills and conceptual understanding to create excellent team environments and work consistently achieving organization objectives believes in taking initiative and work to excellence in my work.  WORK EXPERIENCE  Active member of IIIT Committee in Third year  Cisco Networking   Kanpur Uttar Pradesh  organized by Techkriti IIT Kanpur and Azure Skynet. PERSONALLITY TRAITS  Quick learning ability  hard working  EDUCATION  PGDAC  CDAC ACTS  2017  Bachelor of Engg in Information Technology  Shivaji University Kolhapur   Kolhapur Maharashtra  2016  SKILLS  Database Less than 1 year HTML Less than 1 year Linux. Less than 1 year MICROSOFT ACCESS Less than 1 year MICROSOFT WINDOWS Less than 1 year  ADDITIONAL INFORMATION  TECHNICAL SKILLS   Programming Languages C C Java .net php.  Web Designing HTML XML  Operating Systems Windows  Windows Server 2003 Linux.  Database MS Access MS SQL Server 2008 Oracle 10g MySql.  https//www.indeed.com/r/AfreenJamadar/8baf379b705e37c6isidrexdownloadikwdownloadtopcoIN\n"
     ]
    }
   ],
   "source": [
    "Resume0_No_Bad_Characters_1 = ''.join(Resume0_No_Bad_Characters)\n",
    "print(Resume0_No_Bad_Characters_1)"
   ]
  },
  {
   "cell_type": "code",
   "execution_count": 87,
   "metadata": {},
   "outputs": [
    {
     "data": {
      "text/plain": [
       "['Afreen Jamadar Active member of IIIT Committee in Third year ',\n",
       " 'Sangli Maharashtra ',\n",
       " 'Email me on Indeed indeed',\n",
       " 'com/r/AfreenJamadar/8baf379b705e37c6 ',\n",
       " 'I wish to use my knowledge skills and conceptual understanding to create excellent team environments and work consistently achieving organization objectives believes in taking initiative and work to excellence in my work',\n",
       " ' ',\n",
       " 'WORK EXPERIENCE ',\n",
       " 'Active member of IIIT Committee in Third year ',\n",
       " 'Cisco Networking ',\n",
       " '',\n",
       " 'Kanpur Uttar Pradesh ',\n",
       " 'organized by Techkriti IIT Kanpur and Azure Skynet',\n",
       " ' PERSONALLITY TRAITS ',\n",
       " 'Quick learning ability ',\n",
       " 'hard working ',\n",
       " 'EDUCATION ',\n",
       " 'PGDAC ',\n",
       " 'CDAC ACTS ',\n",
       " '2017 ',\n",
       " 'Bachelor of Engg in Information Technology ',\n",
       " 'Shivaji University Kolhapur ',\n",
       " '',\n",
       " 'Kolhapur Maharashtra ',\n",
       " '2016 ',\n",
       " 'SKILLS ',\n",
       " 'Database Less than 1 year HTML Less than 1 year Linux',\n",
       " ' Less than 1 year MICROSOFT ACCESS Less than 1 year MICROSOFT WINDOWS Less than 1 year ',\n",
       " 'ADDITIONAL INFORMATION ',\n",
       " 'TECHNICAL SKILLS ',\n",
       " '',\n",
       " 'Programming Languages C C Java ',\n",
       " 'net php',\n",
       " ' ',\n",
       " 'Web Designing HTML XML ',\n",
       " 'Operating Systems Windows ',\n",
       " 'Windows Server 2003 Linux',\n",
       " ' ',\n",
       " 'Database MS Access MS SQL Server 2008 Oracle 10g MySql',\n",
       " ' ',\n",
       " 'https//www',\n",
       " 'indeed']"
      ]
     },
     "execution_count": 87,
     "metadata": {},
     "output_type": "execute_result"
    }
   ],
   "source": [
    "## Break into sentences\n",
    "\n",
    "List_Of_Sentences = []\n",
    "Sentence = []\n",
    "for i in range(len(Resume0_No_Bad_Characters_1)):\n",
    "    Sentence.append(Resume0_No_Bad_Characters_1[i])\n",
    "    \n",
    "    if Resume0_No_Bad_Characters_1[i] is '.':\n",
    "        List_Of_Sentences.append(''.join(Sentence[:-1]))\n",
    "        Sentence = []\n",
    "        \n",
    "       \n",
    "    if i > 0:\n",
    "        if Resume0_No_Bad_Characters_1[i] is ' ' and Resume0_No_Bad_Characters_1[i-1] is ' ':\n",
    "            List_Of_Sentences.append(''.join(Sentence[:-1]))\n",
    "            Sentence = []\n",
    "            \n",
    "            \n",
    "List_Of_Sentences"
   ]
  },
  {
   "cell_type": "code",
   "execution_count": 88,
   "metadata": {},
   "outputs": [
    {
     "name": "stdout",
     "output_type": "stream",
     "text": [
      "41\n"
     ]
    },
    {
     "data": {
      "text/plain": [
       "[10,\n",
       " 2,\n",
       " 4,\n",
       " 1,\n",
       " 31,\n",
       " 1,\n",
       " 2,\n",
       " 8,\n",
       " 2,\n",
       " 0,\n",
       " 3,\n",
       " 7,\n",
       " 3,\n",
       " 3,\n",
       " 2,\n",
       " 1,\n",
       " 1,\n",
       " 2,\n",
       " 1,\n",
       " 6,\n",
       " 3,\n",
       " 0,\n",
       " 2,\n",
       " 1,\n",
       " 1,\n",
       " 10,\n",
       " 17,\n",
       " 2,\n",
       " 2,\n",
       " 0,\n",
       " 5,\n",
       " 1,\n",
       " 1,\n",
       " 4,\n",
       " 3,\n",
       " 3,\n",
       " 1,\n",
       " 9,\n",
       " 1,\n",
       " 0,\n",
       " 0]"
      ]
     },
     "execution_count": 88,
     "metadata": {},
     "output_type": "execute_result"
    }
   ],
   "source": [
    "\n",
    "\n",
    "\n",
    "print(len(List_Of_Sentences))\n",
    "\n",
    "Word_Count_In_Sentences = []\n",
    "\n",
    "for i in range(len(List_Of_Sentences)):\n",
    "    Sentence = List_Of_Sentences[i]\n",
    "    Word_Count = 0\n",
    "    for j in range(len(Sentence )):\n",
    "        \n",
    "        \n",
    "        \n",
    "        if Sentence [j] is ' ':\n",
    "            Word_Count+=1\n",
    "        \n",
    "        \n",
    "    Word_Count_In_Sentences.append(Word_Count)\n",
    "    \n",
    "    \n",
    "Word_Count_In_Sentences"
   ]
  },
  {
   "cell_type": "code",
   "execution_count": 93,
   "metadata": {},
   "outputs": [
    {
     "name": "stdout",
     "output_type": "stream",
     "text": [
      "['Sangli Maharashtra ', 'com/r/AfreenJamadar/8baf379b705e37c6 ', 'WORK EXPERIENCE ', 'Cisco Networking ', 'hard working ', 'EDUCATION ', 'PGDAC ', 'CDAC ACTS ', '2017 ', 'Kolhapur Maharashtra ', '2016 ', 'SKILLS ', 'ADDITIONAL INFORMATION ', 'TECHNICAL SKILLS ', 'net php']\n",
      "\n",
      "['Afreen Jamadar Active member of IIIT Committee in Third year ', 'Email me on Indeed indeed', 'I wish to use my knowledge skills and conceptual understanding to create excellent team environments and work consistently achieving organization objectives believes in taking initiative and work to excellence in my work', 'Active member of IIIT Committee in Third year ', 'Kanpur Uttar Pradesh ', 'organized by Techkriti IIT Kanpur and Azure Skynet', ' PERSONALLITY TRAITS ', 'Quick learning ability ', 'Bachelor of Engg in Information Technology ', 'Shivaji University Kolhapur ', 'Database Less than 1 year HTML Less than 1 year Linux', ' Less than 1 year MICROSOFT ACCESS Less than 1 year MICROSOFT WINDOWS Less than 1 year ', 'Programming Languages C C Java ', 'Web Designing HTML XML ', 'Operating Systems Windows ', 'Windows Server 2003 Linux', 'Database MS Access MS SQL Server 2008 Oracle 10g MySql']\n"
     ]
    }
   ],
   "source": [
    "### Split into Keywords and sentences\n",
    "\n",
    "Sentence_List = []\n",
    "Key_Word_List = []\n",
    "\n",
    "for i in range(len(Word_Count_In_Sentences)):\n",
    "    if Word_Count_In_Sentences[i] > 2:\n",
    "        Sentence_List.append(List_Of_Sentences[i])\n",
    "        \n",
    "    elif Word_Count_In_Sentences[i] > 0 :\n",
    "        if List_Of_Sentences[i] != ' ':\n",
    "                Key_Word_List.append(List_Of_Sentences[i])\n",
    "        \n",
    "        \n",
    "        \n",
    "print(Key_Word_List)\n",
    "\n",
    "print()\n",
    "\n",
    "print(Sentence_List)\n",
    "\n",
    "\n",
    "\n",
    "\n"
   ]
  },
  {
   "cell_type": "code",
   "execution_count": 84,
   "metadata": {},
   "outputs": [],
   "source": [
    "### Save Key Words and Sentences In seperate File\n",
    "\n",
    "\n",
    "File_Name_Key_Words = 'Key_Words'\n",
    "File_Name_Sentences = 'Sentences'\n",
    "\n",
    "\n",
    "\n"
   ]
  },
  {
   "cell_type": "code",
   "execution_count": null,
   "metadata": {},
   "outputs": [],
   "source": []
  }
 ],
 "metadata": {
  "kernelspec": {
   "display_name": "Python 3",
   "language": "python",
   "name": "python3"
  },
  "language_info": {
   "codemirror_mode": {
    "name": "ipython",
    "version": 3
   },
   "file_extension": ".py",
   "mimetype": "text/x-python",
   "name": "python",
   "nbconvert_exporter": "python",
   "pygments_lexer": "ipython3",
   "version": "3.6.5"
  }
 },
 "nbformat": 4,
 "nbformat_minor": 2
}
