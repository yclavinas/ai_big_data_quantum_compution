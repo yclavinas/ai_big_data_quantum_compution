{
 "cells": [
  {
   "cell_type": "code",
   "execution_count": 8,
   "metadata": {},
   "outputs": [],
   "source": [
    "import sys"
   ]
  },
  {
   "cell_type": "code",
   "execution_count": null,
   "metadata": {},
   "outputs": [],
   "source": []
  },
  {
   "cell_type": "code",
   "execution_count": 11,
   "metadata": {},
   "outputs": [],
   "source": [
    "def Seperate_Resume_Into_Keywords_And_Sentences(File_Name):\n",
    "\n",
    "    f= open(File_Name)\n",
    "    Resume0 = f.read()\n",
    "    f.close() \n",
    "\n",
    "\n",
    "    List_Of_Allowed_Characters = ['a', 'b', 'c','d','e','f','g','h','i','j','k','l','m','n','o','p','q','r','s','t','u','v','w','x',\n",
    "                             'y','z','A','B','C','D','E','F','G','H','I','J','K','L','M','N','O','P','Q','R','S','T','U',\n",
    "                             'V','W','X','Y','Z','0','1','2','3','4','5','6','7','8','9','/','\\\\','.',' ']\n",
    "\n",
    "\n",
    "    Resume0_No_Bad_Characters = []\n",
    "    for i in range(len(Resume0)):\n",
    "        if Resume0[i] in List_Of_Allowed_Characters:\n",
    "            Resume0_No_Bad_Characters.append(Resume0[i])\n",
    "\n",
    "\n",
    "    Resume0_No_Bad_Characters_1 = ''.join(Resume0_No_Bad_Characters)\n",
    "\n",
    "\n",
    "\n",
    "\n",
    "    \n",
    "    \n",
    "    \n",
    "    ## Break into sentences\n",
    "\n",
    "    List_Of_Sentences = []\n",
    "    Sentence = []\n",
    "    for i in range(len(Resume0_No_Bad_Characters_1)):\n",
    "        Sentence.append(Resume0_No_Bad_Characters_1[i])\n",
    "\n",
    "        if Resume0_No_Bad_Characters_1[i] is '.':\n",
    "            List_Of_Sentences.append(''.join(Sentence[:-1]))\n",
    "            Sentence = []\n",
    "\n",
    "\n",
    "        if i > 0:\n",
    "            if Resume0_No_Bad_Characters_1[i] is ' ' and Resume0_No_Bad_Characters_1[i-1] is ' ':\n",
    "                List_Of_Sentences.append(''.join(Sentence[:-1]))\n",
    "                Sentence = []\n",
    "    \n",
    "    \n",
    "    \n",
    "    \n",
    "    \n",
    "    ### Break into sentences\n",
    "\n",
    "    Word_Count_In_Sentences = []\n",
    "\n",
    "    for i in range(len(List_Of_Sentences)):\n",
    "        Sentence = List_Of_Sentences[i]\n",
    "        Word_Count = 0\n",
    "        for j in range(len(Sentence )):\n",
    "\n",
    "\n",
    "\n",
    "            if Sentence [j] is ' ':\n",
    "                Word_Count+=1\n",
    "\n",
    "\n",
    "        Word_Count_In_Sentences.append(Word_Count)\n",
    "    \n",
    "    \n",
    "    \n",
    "    \n",
    "    \n",
    "    \n",
    "    ### Break into words\n",
    "\n",
    "    Sentence_List = []\n",
    "    Key_Word_List = []\n",
    "\n",
    "    for i in range(len(Word_Count_In_Sentences)):\n",
    "        if Word_Count_In_Sentences[i] > 2:\n",
    "            Sentence_List.append(List_Of_Sentences[i])\n",
    "\n",
    "        elif Word_Count_In_Sentences[i] > 0 :\n",
    "            if List_Of_Sentences[i] != ' ':\n",
    "                    Key_Word_List.append(List_Of_Sentences[i])\n",
    "\n",
    "\n",
    "                    \n",
    "\n",
    "\n",
    "    print(Key_Word_List)\n",
    "\n",
    "    print()\n",
    "\n",
    "    print(Sentence_List)\n",
    "    \n",
    "    return Key_Word_List, Sentence_List\n",
    "\n",
    "\n",
    "\n"
   ]
  },
  {
   "cell_type": "code",
   "execution_count": 12,
   "metadata": {},
   "outputs": [
    {
     "name": "stdout",
     "output_type": "stream",
     "text": [
      "['Sangli Maharashtra ', 'com/r/AfreenJamadar/8baf379b705e37c6 ', 'WORK EXPERIENCE ', 'Cisco Networking ', 'hard working ', 'EDUCATION ', 'PGDAC ', 'CDAC ACTS ', '2017 ', 'Kolhapur Maharashtra ', '2016 ', 'SKILLS ', 'ADDITIONAL INFORMATION ', 'TECHNICAL SKILLS ', 'net php']\n",
      "\n",
      "['Afreen Jamadar Active member of IIIT Committee in Third year ', 'Email me on Indeed indeed', 'I wish to use my knowledge skills and conceptual understanding to create excellent team environments and work consistently achieving organization objectives believes in taking initiative and work to excellence in my work', 'Active member of IIIT Committee in Third year ', 'Kanpur Uttar Pradesh ', 'organized by Techkriti IIT Kanpur and Azure Skynet', ' PERSONALLITY TRAITS ', 'Quick learning ability ', 'Bachelor of Engg in Information Technology ', 'Shivaji University Kolhapur ', 'Database Less than 1 year HTML Less than 1 year Linux', ' Less than 1 year MICROSOFT ACCESS Less than 1 year MICROSOFT WINDOWS Less than 1 year ', 'Programming Languages C C Java ', 'Web Designing HTML XML ', 'Operating Systems Windows ', 'Windows Server 2003 Linux', 'Database MS Access MS SQL Server 2008 Oracle 10g MySql']\n"
     ]
    }
   ],
   "source": [
    "File_Name = \"Resumes/0resume.txt\"\n",
    "Key_Word_List, Sentence_List = Seperate_Resume_Into_Keywords_And_Sentences(File_Name)\n"
   ]
  },
  {
   "cell_type": "code",
   "execution_count": null,
   "metadata": {},
   "outputs": [],
   "source": []
  },
  {
   "cell_type": "code",
   "execution_count": null,
   "metadata": {},
   "outputs": [],
   "source": []
  },
  {
   "cell_type": "code",
   "execution_count": null,
   "metadata": {},
   "outputs": [],
   "source": []
  },
  {
   "cell_type": "code",
   "execution_count": null,
   "metadata": {},
   "outputs": [],
   "source": []
  },
  {
   "cell_type": "code",
   "execution_count": null,
   "metadata": {},
   "outputs": [],
   "source": []
  }
 ],
 "metadata": {
  "kernelspec": {
   "display_name": "Python 3",
   "language": "python",
   "name": "python3"
  },
  "language_info": {
   "codemirror_mode": {
    "name": "ipython",
    "version": 3
   },
   "file_extension": ".py",
   "mimetype": "text/x-python",
   "name": "python",
   "nbconvert_exporter": "python",
   "pygments_lexer": "ipython3",
   "version": "3.6.5"
  }
 },
 "nbformat": 4,
 "nbformat_minor": 2
}
